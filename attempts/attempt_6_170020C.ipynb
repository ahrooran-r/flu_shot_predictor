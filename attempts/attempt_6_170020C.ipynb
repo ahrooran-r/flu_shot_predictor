{
 "cells": [
  {
   "cell_type": "code",
   "execution_count": 20,
   "metadata": {
    "collapsed": true
   },
   "outputs": [
    {
     "name": "stdout",
     "output_type": "stream",
     "text": [
      "Import complete\n"
     ]
    }
   ],
   "source": [
    "from copy import deepcopy\n",
    "\n",
    "import numpy as np\n",
    "import pandas as pd\n",
    "\n",
    "from sklearn.preprocessing import StandardScaler\n",
    "\n",
    "from sklearn.impute import SimpleImputer\n",
    "\n",
    "from sklearn.model_selection import train_test_split\n",
    "from sklearn.model_selection import GridSearchCV\n",
    "from sklearn.model_selection import RandomizedSearchCV\n",
    "\n",
    "from sklearn.ensemble import RandomForestClassifier\n",
    "\n",
    "from sklearn.metrics import roc_auc_score\n",
    "from catboost import CatBoostClassifier\n",
    "from catboost.utils import get_gpu_device_count\n",
    "\n",
    "print(\"Import complete\")"
   ]
  },
  {
   "cell_type": "markdown",
   "source": [
    "## Import all the datasets"
   ],
   "metadata": {
    "collapsed": false
   }
  },
  {
   "cell_type": "code",
   "execution_count": 21,
   "outputs": [
    {
     "name": "stdout",
     "output_type": "stream",
     "text": [
      "train df => rows: 26707, cols: 36\n",
      "train labels df => rows: 26707, cols: 3\n",
      "test df => rows: 26708, cols: 36\n"
     ]
    }
   ],
   "source": [
    "# test data\n",
    "test = pd.read_csv(r\"test_set_features.csv\")\n",
    "\n",
    "# train data\n",
    "train = pd.read_csv(r\"training_set_features.csv\")\n",
    "\n",
    "# target\n",
    "training_labels = pd.read_csv(r\"training_set_labels.csv\")\n",
    "\n",
    "# check whether rows are equal\n",
    "print(\"train df => rows: %s, cols: %s\" % (train.shape[0], train.shape[1]))\n",
    "print(\"train labels df => rows: %s, cols: %s\" % (training_labels.shape[0], training_labels.shape[1]))\n",
    "print(\"test df => rows: %s, cols: %s\" % (test.shape[0], test.shape[1]))\n",
    "\n",
    "assert(train.shape[1] == test.shape[1])"
   ],
   "metadata": {
    "collapsed": false,
    "pycharm": {
     "name": "#%%\n"
    }
   }
  },
  {
   "cell_type": "markdown",
   "source": [
    "## Pre-processing\n",
    "\n",
    "From previous work, it is known that the dataset does not have any\n",
    "duplicates"
   ],
   "metadata": {
    "collapsed": false
   }
  },
  {
   "cell_type": "markdown",
   "source": [
    "### Setting `respodent_id` as index for the df"
   ],
   "metadata": {
    "collapsed": false,
    "pycharm": {
     "name": "#%% md\n"
    }
   }
  },
  {
   "cell_type": "code",
   "execution_count": 22,
   "outputs": [],
   "source": [
    "train = train.set_index(\"respondent_id\")\n",
    "test = test.set_index(\"respondent_id\")\n",
    "training_labels = training_labels.set_index(\"respondent_id\")"
   ],
   "metadata": {
    "collapsed": false,
    "pycharm": {
     "name": "#%%\n"
    }
   }
  },
  {
   "cell_type": "markdown",
   "source": [
    "### Create a grouped dataset"
   ],
   "metadata": {
    "collapsed": false,
    "pycharm": {
     "name": "#%% md\n"
    }
   }
  },
  {
   "cell_type": "code",
   "execution_count": 23,
   "outputs": [
    {
     "name": "stdout",
     "output_type": "stream",
     "text": [
      "data => rows: 53415, cols: 36\n"
     ]
    }
   ],
   "source": [
    "train[\"type\"] = \"train\"\n",
    "test[\"type\"] = \"test\"\n",
    "\n",
    "data_original = pd.concat([train, test], ignore_index=True)\n",
    "\n",
    "# the row count should be total of both df and column count should be incremented by one\n",
    "print(\"data => rows: %s, cols: %s\" % (data_original.shape[0], data_original.shape[1]))\n",
    "\n",
    "assert(data_original.shape[0] == train.shape[0] + test.shape[0])\n",
    "assert(data_original.shape[1] == train.shape[1])\n",
    "\n",
    "del train, test"
   ],
   "metadata": {
    "collapsed": false,
    "pycharm": {
     "name": "#%%\n"
    }
   }
  },
  {
   "cell_type": "markdown",
   "source": [
    "### Select Categorical and Numerical columns"
   ],
   "metadata": {
    "collapsed": false,
    "pycharm": {
     "name": "#%% md\n"
    }
   }
  },
  {
   "cell_type": "code",
   "execution_count": 24,
   "outputs": [
    {
     "name": "stdout",
     "output_type": "stream",
     "text": [
      "['age_group', 'education', 'race', 'sex', 'income_poverty', 'marital_status', 'rent_or_own', 'employment_status', 'hhs_geo_region', 'census_msa', 'employment_industry', 'employment_occupation', 'type']\n",
      "['h1n1_concern', 'h1n1_knowledge', 'behavioral_antiviral_meds', 'behavioral_avoidance', 'behavioral_face_mask', 'behavioral_wash_hands', 'behavioral_large_gatherings', 'behavioral_outside_home', 'behavioral_touch_face', 'doctor_recc_h1n1', 'doctor_recc_seasonal', 'chronic_med_condition', 'child_under_6_months', 'health_worker', 'health_insurance', 'opinion_h1n1_vacc_effective', 'opinion_h1n1_risk', 'opinion_h1n1_sick_from_vacc', 'opinion_seas_vacc_effective', 'opinion_seas_risk', 'opinion_seas_sick_from_vacc', 'household_adults', 'household_children']\n"
     ]
    }
   ],
   "source": [
    "# divide into numeric columns and categorical columns\n",
    "categorical_columns = np.where(data_original.dtypes == object)[0]\n",
    "categorical_features = [data_original.columns[feature] for feature in categorical_columns]\n",
    "\n",
    "numerical_features = [feat for feat in data_original.columns if feat not in categorical_features]\n",
    "\n",
    "print(categorical_features)\n",
    "print(numerical_features)\n",
    "\n",
    "assert (len(numerical_features) + len(categorical_features) == len(data_original.columns))\n",
    "del categorical_columns"
   ],
   "metadata": {
    "collapsed": false,
    "pycharm": {
     "name": "#%%\n"
    }
   }
  },
  {
   "cell_type": "markdown",
   "source": [
    "### Extract columns from data"
   ],
   "metadata": {
    "collapsed": false,
    "pycharm": {
     "name": "#%% md\n"
    }
   }
  },
  {
   "cell_type": "code",
   "execution_count": 25,
   "outputs": [],
   "source": [
    "data_subset_numeric = data_original.loc[:, numerical_features]\n",
    "\n",
    "data_subset_categorical = data_original.loc[:, categorical_features]"
   ],
   "metadata": {
    "collapsed": false,
    "pycharm": {
     "name": "#%%\n"
    }
   }
  },
  {
   "cell_type": "markdown",
   "source": [
    "### Do scaling with Standard scalar"
   ],
   "metadata": {
    "collapsed": false,
    "pycharm": {
     "name": "#%% md\n"
    }
   }
  },
  {
   "cell_type": "code",
   "execution_count": 26,
   "outputs": [],
   "source": [
    "scalar = StandardScaler()\n",
    "data_subset_numeric = pd.DataFrame(scalar.fit_transform(data_subset_numeric), columns = data_subset_numeric.columns)\n",
    "\n",
    "del scalar"
   ],
   "metadata": {
    "collapsed": false,
    "pycharm": {
     "name": "#%%\n"
    }
   }
  },
  {
   "cell_type": "markdown",
   "source": [
    "### Impute with SimpleImputer"
   ],
   "metadata": {
    "collapsed": false,
    "pycharm": {
     "name": "#%% md\n"
    }
   }
  },
  {
   "cell_type": "code",
   "execution_count": 27,
   "outputs": [],
   "source": [
    "# imputer = KNNImputer(n_neighbors=1, missing_values=np.nan)\n",
    "imputer = SimpleImputer(strategy=\"mean\")\n",
    "data_subset_numeric = pd.DataFrame(imputer.fit_transform(data_subset_numeric), columns = data_subset_numeric.columns)\n",
    "\n",
    "del imputer"
   ],
   "metadata": {
    "collapsed": false,
    "pycharm": {
     "name": "#%%\n"
    }
   }
  },
  {
   "cell_type": "markdown",
   "source": [
    "For categorical data, fill values as \"unknown\""
   ],
   "metadata": {
    "collapsed": false,
    "pycharm": {
     "name": "#%% md\n"
    }
   }
  },
  {
   "cell_type": "code",
   "execution_count": 28,
   "outputs": [],
   "source": [
    "imputer = SimpleImputer(missing_values=np.nan, strategy='constant', fill_value = 'unknown')\n",
    "data_subset_categorical = pd.DataFrame(imputer.fit_transform(data_subset_categorical), columns = data_subset_categorical.columns)\n",
    "\n",
    "# change object to category\n",
    "for cat in categorical_features:\n",
    "    data_subset_categorical[cat] = data_subset_categorical[cat].astype('category')"
   ],
   "metadata": {
    "collapsed": false,
    "pycharm": {
     "name": "#%%\n"
    }
   }
  },
  {
   "cell_type": "code",
   "execution_count": 29,
   "outputs": [
    {
     "name": "stdout",
     "output_type": "stream",
     "text": [
      "age_group: ['18 - 34 Years', '35 - 44 Years', '45 - 54 Years', '55 - 64 Years', '65+ Years']\n",
      "education: ['12 Years', '< 12 Years', 'College Graduate', 'Some College', 'unknown']\n",
      "race: ['Black', 'Hispanic', 'Other or Multiple', 'White']\n",
      "sex: ['Female', 'Male']\n",
      "income_poverty: ['<= $75,000, Above Poverty', '> $75,000', 'Below Poverty', 'unknown']\n",
      "marital_status: ['Married', 'Not Married', 'unknown']\n",
      "rent_or_own: ['Own', 'Rent', 'unknown']\n",
      "employment_status: ['Employed', 'Not in Labor Force', 'Unemployed', 'unknown']\n",
      "hhs_geo_region: ['atmpeygn', 'bhuqouqj', 'dqpwygqj', 'fpwskwrf', 'kbazzjca', 'lrircsnp', 'lzgpxyit', 'mlyzmhmf', 'oxchjgsf', 'qufhixun']\n",
      "census_msa: ['MSA, Not Principle  City', 'MSA, Principle City', 'Non-MSA']\n",
      "employment_industry: ['arjwrbjb', 'atmlpfrs', 'cfqqtusy', 'dotnnunm', 'fcxhlnwr', 'haxffmxo', 'ldnlellj', 'mcubkhph', 'mfikgejo', 'msuufmds', 'nduyfdeo', 'phxvnwax', 'pxcmvdjn', 'qnlwzans', 'rucpziij', 'saaquncn', 'unknown', 'vjjrobsf', 'wlfvacwt', 'wxleyezf', 'xicduogh', 'xqicxuve']\n",
      "employment_occupation: ['bxpfxfdn', 'ccgxvspp', 'cmhcxjea', 'dcjcmpih', 'dlvbwzss', 'emcorrxb', 'haliazsg', 'hfxkjkmi', 'hodpvpew', 'kldqjyjy', 'mxkfnird', 'oijqvulv', 'pvmttkik', 'qxajmpny', 'rcertsgn', 'tfqavkke', 'ukymxvdu', 'unknown', 'uqqtjvyb', 'vlluhbov', 'xgwztkwe', 'xqwwgdyp', 'xtkaffoo', 'xzmlyyjv']\n",
      "type: ['test', 'train']\n"
     ]
    }
   ],
   "source": [
    "for cat in categorical_features:\n",
    "    print(\"%s: %s\" % (cat, list(data_subset_categorical[cat].cat.categories)))"
   ],
   "metadata": {
    "collapsed": false,
    "pycharm": {
     "name": "#%%\n"
    }
   }
  },
  {
   "cell_type": "markdown",
   "source": [
    "### Encoding with LabelEncoding and OneHotEncoding\n",
    "\n",
    "Label encoding:\n",
    "1. age_group            -> in order\n",
    "2. education            -> not in order\n",
    "3. income_poverty       -> not in order\n",
    "4. sex                  -> only binary values present\n",
    "\n",
    "One Hot Encoding:\n",
    "1. race\n",
    "2. marital_status\n",
    "3. rent_or_own\n",
    "4. employment_status\n",
    "5. hhs_geo_region\n",
    "6. census_msa\n",
    "7. employment_industry\n",
    "8. employment_occupation\n",
    "\n",
    "Leave as it is:\n",
    "2. type\n",
    "\n",
    "So I have to divide `data_subset_categorical` into 2:\n",
    "1. `data_subset_categorical_label`\n",
    "2. `data_subset_categorical_onehot`"
   ],
   "metadata": {
    "collapsed": false,
    "pycharm": {
     "name": "#%% md\n"
    }
   }
  },
  {
   "cell_type": "code",
   "execution_count": 30,
   "outputs": [],
   "source": [
    "label_features = ['age_group', 'education', 'income_poverty', 'sex']\n",
    "onehot_features = ['race', 'marital_status', 'rent_or_own', 'employment_status', 'hhs_geo_region', 'census_msa', 'employment_industry', 'employment_occupation']\n",
    "\n",
    "# `type` is excluded\n",
    "assert (len(label_features) + len(onehot_features) == len(categorical_features) - 1)\n",
    "\n",
    "data_subset_categorical_label = data_subset_categorical.loc[:, label_features]\n",
    "data_subset_categorical_onehot = data_subset_categorical.loc[:, onehot_features]\n",
    "\n",
    "assert (not any(data_subset_categorical_label.isna().any()))\n",
    "assert (not any(data_subset_categorical_onehot.isna().any()))\n",
    "assert (data_subset_categorical_label.shape[0] == data_subset_categorical_onehot.shape[0])"
   ],
   "metadata": {
    "collapsed": false,
    "pycharm": {
     "name": "#%%\n"
    }
   }
  },
  {
   "cell_type": "code",
   "execution_count": 31,
   "outputs": [
    {
     "name": "stderr",
     "output_type": "stream",
     "text": [
      "E:\\OpenSoftware\\miniconda3\\envs\\flu_shot_predictor\\lib\\site-packages\\pandas\\core\\arrays\\categorical.py:2630: FutureWarning: The `inplace` parameter in pandas.Categorical.reorder_categories is deprecated and will be removed in a future version. Removing unused categories will always return a new Categorical object.\n",
      "  res = method(*args, **kwargs)\n",
      "E:\\OpenSoftware\\miniconda3\\envs\\flu_shot_predictor\\lib\\site-packages\\pandas\\core\\arrays\\categorical.py:2630: FutureWarning: The `inplace` parameter in pandas.Categorical.reorder_categories is deprecated and will be removed in a future version. Removing unused categories will always return a new Categorical object.\n",
      "  res = method(*args, **kwargs)\n"
     ]
    }
   ],
   "source": [
    "# label encoding\n",
    "\n",
    "data_subset_categorical_label['age_group'] = data_subset_categorical_label['age_group'].cat.codes\n",
    "\n",
    "data_subset_categorical_label['education'].cat.reorder_categories(['unknown','< 12 Years', '12 Years', 'Some College', 'College Graduate'], ordered = True, inplace = True)\n",
    "data_subset_categorical_label['education'] = data_subset_categorical_label['education'].cat.codes\n",
    "\n",
    "data_subset_categorical_label['income_poverty'].cat.reorder_categories(['unknown','Below Poverty', '<= $75,000, Above Poverty', '> $75,000'], ordered = True, inplace = True)\n",
    "data_subset_categorical_label['income_poverty'] = data_subset_categorical_label['income_poverty'].cat.codes\n",
    "\n",
    "data_subset_categorical_label['sex'] = data_subset_categorical_label['sex'].cat.codes"
   ],
   "metadata": {
    "collapsed": false,
    "pycharm": {
     "name": "#%%\n"
    }
   }
  },
  {
   "cell_type": "code",
   "execution_count": 32,
   "outputs": [],
   "source": [
    "# one hot encoding\n",
    "for feature in onehot_features:\n",
    "    data_subset_categorical_onehot = pd.concat([data_subset_categorical_onehot.drop(feature, axis=1), pd.get_dummies(data_subset_categorical_onehot[feature], prefix=feature)], axis=1)\n"
   ],
   "metadata": {
    "collapsed": false,
    "pycharm": {
     "name": "#%%\n"
    }
   }
  },
  {
   "cell_type": "markdown",
   "source": [
    "### Rejoining everything back into one df"
   ],
   "metadata": {
    "collapsed": false
   }
  },
  {
   "cell_type": "code",
   "execution_count": 33,
   "outputs": [
    {
     "data": {
      "text/plain": "(53415, 101)"
     },
     "execution_count": 33,
     "metadata": {},
     "output_type": "execute_result"
    }
   ],
   "source": [
    "data = pd.concat([data_subset_numeric, data_subset_categorical_label, data_subset_categorical_onehot], axis = 1)\n",
    "data[\"type\"] = data_original[\"type\"]\n",
    "\n",
    "assert (data.shape[0] == data_original.shape[0])\n",
    "\n",
    "data.shape"
   ],
   "metadata": {
    "collapsed": false,
    "pycharm": {
     "name": "#%%\n"
    }
   }
  },
  {
   "cell_type": "code",
   "execution_count": 34,
   "outputs": [
    {
     "data": {
      "text/plain": "h1n1_concern                      float64\nh1n1_knowledge                    float64\nbehavioral_antiviral_meds         float64\nbehavioral_avoidance              float64\nbehavioral_face_mask              float64\n                                   ...   \nemployment_occupation_xgwztkwe      uint8\nemployment_occupation_xqwwgdyp      uint8\nemployment_occupation_xtkaffoo      uint8\nemployment_occupation_xzmlyyjv      uint8\ntype                               object\nLength: 101, dtype: object"
     },
     "execution_count": 34,
     "metadata": {},
     "output_type": "execute_result"
    }
   ],
   "source": [
    "data.dtypes"
   ],
   "metadata": {
    "collapsed": false,
    "pycharm": {
     "name": "#%%\n"
    }
   }
  },
  {
   "cell_type": "markdown",
   "source": [
    "data types of converted columns are in `int8` and `uint8`,\n",
    "convert that to `float64` for consistency"
   ],
   "metadata": {
    "collapsed": false
   }
  },
  {
   "cell_type": "code",
   "execution_count": 35,
   "outputs": [],
   "source": [
    "for col in data.columns:\n",
    "    if data[col].dtype == 'int8' or data[col].dtype == 'uint8':\n",
    "        data[col] = data[col].astype('float64')\n",
    "\n",
    "assert (not any(data.isna().any()))"
   ],
   "metadata": {
    "collapsed": false,
    "pycharm": {
     "name": "#%%\n"
    }
   }
  },
  {
   "cell_type": "markdown",
   "source": [
    "### Use feature engineering with correlation to remove unnecessary features\n",
    "\n",
    "https://stackoverflow.com/a/60223949/10582056"
   ],
   "metadata": {
    "collapsed": false,
    "pycharm": {
     "name": "#%% md\n"
    }
   }
  },
  {
   "cell_type": "code",
   "execution_count": 36,
   "outputs": [
    {
     "data": {
      "text/plain": "['marital_status_Not Married',\n 'employment_status_unknown',\n 'employment_industry_unknown',\n 'employment_occupation_dcjcmpih',\n 'employment_occupation_unknown']"
     },
     "execution_count": 36,
     "metadata": {},
     "output_type": "execute_result"
    }
   ],
   "source": [
    "# setting threshold\n",
    "threshold = 0.85\n",
    "\n",
    "corr = data.corr().abs()\n",
    "upper = corr.where(np.triu(np.ones(corr.shape), k=1).astype(bool))\n",
    "\n",
    "removed_cols = [column for column in upper.columns if any(upper[column] > threshold)]\n",
    "removed_cols"
   ],
   "metadata": {
    "collapsed": false,
    "pycharm": {
     "name": "#%%\n"
    }
   }
  },
  {
   "cell_type": "markdown",
   "source": [
    "### Prune columns which have above threshold co-relation"
   ],
   "metadata": {
    "collapsed": false
   }
  },
  {
   "cell_type": "code",
   "execution_count": 37,
   "outputs": [
    {
     "data": {
      "text/plain": "(53415, 96)"
     },
     "execution_count": 37,
     "metadata": {},
     "output_type": "execute_result"
    }
   ],
   "source": [
    "data = data.drop(columns = removed_cols)\n",
    "data.shape"
   ],
   "metadata": {
    "collapsed": false,
    "pycharm": {
     "name": "#%%\n"
    }
   }
  },
  {
   "cell_type": "markdown",
   "source": [
    "## Attempting to sort with CatBoostClassifier\n",
    "\n",
    "### Split train data into train and test"
   ],
   "metadata": {
    "collapsed": false,
    "pycharm": {
     "name": "#%% md\n"
    }
   }
  },
  {
   "cell_type": "code",
   "execution_count": 38,
   "outputs": [],
   "source": [
    "# split in 80:20 ratio\n",
    "\n",
    "target_h1n1_vaccine = training_labels[\"h1n1_vaccine\"].values\n",
    "target_seasonal_vaccine = training_labels[\"seasonal_vaccine\"].values\n",
    "\n",
    "train = data[data.type.eq(\"train\")].drop(\"type\", axis=1)\n",
    "test = data[data.type.eq(\"test\")].drop(\"type\", axis=1)\n",
    "\n",
    "size = 1000\n",
    "X_train, X_test, y_train, y_test = train_test_split(\n",
    "    train.head(size),\n",
    "    training_labels[['h1n1_vaccine', 'seasonal_vaccine']].head(size),\n",
    "    test_size = 0.2,\n",
    "    shuffle = True,\n",
    "    stratify = training_labels[['h1n1_vaccine', 'seasonal_vaccine']].head(size),\n",
    "    random_state = 42\n",
    ")"
   ],
   "metadata": {
    "collapsed": false,
    "pycharm": {
     "name": "#%%\n"
    }
   }
  },
  {
   "cell_type": "markdown",
   "source": [
    "## Use Randomized Search CV with CatBoostClassifier"
   ],
   "metadata": {
    "collapsed": false,
    "pycharm": {
     "name": "#%% md\n"
    }
   }
  },
  {
   "cell_type": "code",
   "execution_count": 39,
   "outputs": [
    {
     "name": "stdout",
     "output_type": "stream",
     "text": [
      "Ready!\n"
     ]
    }
   ],
   "source": [
    "# Use RandomSearchCV to determine K value for each\n",
    "\n",
    "random_grid = {\n",
    "    # 'n_estimators': [n for n in range(200, 2000) if n % 100 == 0],\n",
    "    # 'max_features': ['auto', 'sqrt'],\n",
    "    # 'max_depth': [n for n in range(10, 120) if n % 10 == 0] + [None],\n",
    "    # 'min_samples_split': [n for n in range(1, 30) if n % 2 == 0],\n",
    "    # 'min_samples_leaf': [n for n in range(1, 30) if n % 2 == 0],\n",
    "    # 'bootstrap': [True, False]\n",
    "\n",
    "    \"n_estimators\":[500, 600, 700, 800],\n",
    "    \"max_depth\": [10, 30, 50, 80, 100],\n",
    "    \"learning_rate\": [0.1, 0.15, 0.3, 0.5, 0.8, 1],\n",
    "    \"loss_function\": ['Logloss'],\n",
    "    \"l2_leaf_reg\": [1,2,3]\n",
    "}\n",
    "\n",
    "rscv_h1n1 = RandomizedSearchCV(\n",
    "    estimator = CatBoostClassifier(),\n",
    "    param_distributions = random_grid,\n",
    "    scoring='roc_auc',\n",
    "    n_iter=10,\n",
    "    cv=3,\n",
    "    verbose=2,\n",
    "    random_state=42,\n",
    "    n_jobs=4\n",
    ")\n",
    "\n",
    "rscv_seasonal = deepcopy(rscv_h1n1)\n",
    "\n",
    "print(\"Ready!\")"
   ],
   "metadata": {
    "collapsed": false,
    "pycharm": {
     "name": "#%%\n"
    }
   }
  },
  {
   "cell_type": "code",
   "execution_count": 40,
   "outputs": [
    {
     "name": "stdout",
     "output_type": "stream",
     "text": [
      "Fitting 3 folds for each of 10 candidates, totalling 30 fits\n",
      "0:\tlearn: 0.5736930\ttotal: 156ms\tremaining: 1m 33s\n",
      "1:\tlearn: 0.5052994\ttotal: 165ms\tremaining: 49.4s\n",
      "2:\tlearn: 0.4622084\ttotal: 166ms\tremaining: 33.1s\n",
      "3:\tlearn: 0.4019966\ttotal: 175ms\tremaining: 26.1s\n",
      "4:\tlearn: 0.3610813\ttotal: 184ms\tremaining: 21.9s\n",
      "5:\tlearn: 0.3239784\ttotal: 193ms\tremaining: 19.1s\n",
      "6:\tlearn: 0.2994197\ttotal: 202ms\tremaining: 17.1s\n",
      "7:\tlearn: 0.2779857\ttotal: 216ms\tremaining: 15.9s\n",
      "8:\tlearn: 0.2582015\ttotal: 225ms\tremaining: 14.8s\n",
      "9:\tlearn: 0.2425799\ttotal: 234ms\tremaining: 13.8s\n",
      "10:\tlearn: 0.2262804\ttotal: 243ms\tremaining: 13s\n",
      "11:\tlearn: 0.2053854\ttotal: 252ms\tremaining: 12.3s\n",
      "12:\tlearn: 0.1957183\ttotal: 261ms\tremaining: 11.8s\n",
      "13:\tlearn: 0.1813659\ttotal: 288ms\tremaining: 12.1s\n",
      "14:\tlearn: 0.1703963\ttotal: 300ms\tremaining: 11.7s\n",
      "15:\tlearn: 0.1606032\ttotal: 309ms\tremaining: 11.3s\n",
      "16:\tlearn: 0.1558875\ttotal: 320ms\tremaining: 11s\n",
      "17:\tlearn: 0.1475996\ttotal: 333ms\tremaining: 10.8s\n",
      "18:\tlearn: 0.1412327\ttotal: 364ms\tremaining: 11.1s\n",
      "19:\tlearn: 0.1337304\ttotal: 378ms\tremaining: 10.9s\n",
      "20:\tlearn: 0.1263966\ttotal: 386ms\tremaining: 10.6s\n",
      "21:\tlearn: 0.1174840\ttotal: 395ms\tremaining: 10.4s\n",
      "22:\tlearn: 0.1163167\ttotal: 396ms\tremaining: 9.94s\n",
      "23:\tlearn: 0.1138054\ttotal: 405ms\tremaining: 9.71s\n",
      "24:\tlearn: 0.1082869\ttotal: 414ms\tremaining: 9.52s\n",
      "25:\tlearn: 0.1017413\ttotal: 422ms\tremaining: 9.32s\n",
      "26:\tlearn: 0.0974600\ttotal: 431ms\tremaining: 9.14s\n",
      "27:\tlearn: 0.0910097\ttotal: 440ms\tremaining: 8.98s\n",
      "28:\tlearn: 0.0862585\ttotal: 448ms\tremaining: 8.82s\n",
      "29:\tlearn: 0.0828372\ttotal: 457ms\tremaining: 8.67s\n",
      "30:\tlearn: 0.0790299\ttotal: 465ms\tremaining: 8.54s\n",
      "31:\tlearn: 0.0757792\ttotal: 475ms\tremaining: 8.42s\n",
      "32:\tlearn: 0.0718619\ttotal: 484ms\tremaining: 8.31s\n",
      "33:\tlearn: 0.0685054\ttotal: 493ms\tremaining: 8.21s\n",
      "34:\tlearn: 0.0658960\ttotal: 502ms\tremaining: 8.11s\n",
      "35:\tlearn: 0.0641026\ttotal: 511ms\tremaining: 8.01s\n",
      "36:\tlearn: 0.0622471\ttotal: 521ms\tremaining: 7.92s\n",
      "37:\tlearn: 0.0594589\ttotal: 531ms\tremaining: 7.85s\n",
      "38:\tlearn: 0.0571459\ttotal: 540ms\tremaining: 7.76s\n",
      "39:\tlearn: 0.0549882\ttotal: 550ms\tremaining: 7.7s\n",
      "40:\tlearn: 0.0534378\ttotal: 560ms\tremaining: 7.64s\n",
      "41:\tlearn: 0.0517444\ttotal: 570ms\tremaining: 7.57s\n",
      "42:\tlearn: 0.0500412\ttotal: 579ms\tremaining: 7.51s\n",
      "43:\tlearn: 0.0485177\ttotal: 594ms\tremaining: 7.5s\n",
      "44:\tlearn: 0.0463923\ttotal: 605ms\tremaining: 7.46s\n",
      "45:\tlearn: 0.0448222\ttotal: 613ms\tremaining: 7.38s\n",
      "46:\tlearn: 0.0435766\ttotal: 622ms\tremaining: 7.32s\n",
      "47:\tlearn: 0.0425064\ttotal: 630ms\tremaining: 7.25s\n",
      "48:\tlearn: 0.0413677\ttotal: 639ms\tremaining: 7.18s\n",
      "49:\tlearn: 0.0400748\ttotal: 647ms\tremaining: 7.12s\n",
      "50:\tlearn: 0.0392791\ttotal: 656ms\tremaining: 7.06s\n",
      "51:\tlearn: 0.0387211\ttotal: 664ms\tremaining: 7s\n",
      "52:\tlearn: 0.0373663\ttotal: 673ms\tremaining: 6.95s\n",
      "53:\tlearn: 0.0364352\ttotal: 681ms\tremaining: 6.89s\n",
      "54:\tlearn: 0.0354687\ttotal: 690ms\tremaining: 6.83s\n",
      "55:\tlearn: 0.0342575\ttotal: 698ms\tremaining: 6.78s\n",
      "56:\tlearn: 0.0333616\ttotal: 707ms\tremaining: 6.73s\n",
      "57:\tlearn: 0.0324989\ttotal: 715ms\tremaining: 6.68s\n",
      "58:\tlearn: 0.0317907\ttotal: 723ms\tremaining: 6.63s\n",
      "59:\tlearn: 0.0314415\ttotal: 732ms\tremaining: 6.58s\n",
      "60:\tlearn: 0.0307874\ttotal: 740ms\tremaining: 6.54s\n",
      "61:\tlearn: 0.0302910\ttotal: 749ms\tremaining: 6.5s\n",
      "62:\tlearn: 0.0293015\ttotal: 758ms\tremaining: 6.46s\n",
      "63:\tlearn: 0.0285445\ttotal: 766ms\tremaining: 6.42s\n",
      "64:\tlearn: 0.0283501\ttotal: 774ms\tremaining: 6.37s\n",
      "65:\tlearn: 0.0276326\ttotal: 783ms\tremaining: 6.34s\n",
      "66:\tlearn: 0.0272950\ttotal: 797ms\tremaining: 6.34s\n",
      "67:\tlearn: 0.0269734\ttotal: 808ms\tremaining: 6.32s\n",
      "68:\tlearn: 0.0265119\ttotal: 817ms\tremaining: 6.29s\n",
      "69:\tlearn: 0.0256503\ttotal: 825ms\tremaining: 6.25s\n",
      "70:\tlearn: 0.0249890\ttotal: 834ms\tremaining: 6.21s\n",
      "71:\tlearn: 0.0241530\ttotal: 842ms\tremaining: 6.18s\n",
      "72:\tlearn: 0.0235268\ttotal: 852ms\tremaining: 6.15s\n",
      "73:\tlearn: 0.0230632\ttotal: 860ms\tremaining: 6.11s\n",
      "74:\tlearn: 0.0224131\ttotal: 869ms\tremaining: 6.09s\n",
      "75:\tlearn: 0.0218379\ttotal: 878ms\tremaining: 6.05s\n",
      "76:\tlearn: 0.0215765\ttotal: 887ms\tremaining: 6.02s\n",
      "77:\tlearn: 0.0211198\ttotal: 895ms\tremaining: 5.99s\n",
      "78:\tlearn: 0.0207004\ttotal: 904ms\tremaining: 5.96s\n",
      "79:\tlearn: 0.0201657\ttotal: 913ms\tremaining: 5.93s\n",
      "80:\tlearn: 0.0197472\ttotal: 921ms\tremaining: 5.9s\n",
      "81:\tlearn: 0.0192619\ttotal: 930ms\tremaining: 5.87s\n",
      "82:\tlearn: 0.0188554\ttotal: 938ms\tremaining: 5.84s\n",
      "83:\tlearn: 0.0185129\ttotal: 947ms\tremaining: 5.82s\n",
      "84:\tlearn: 0.0182212\ttotal: 957ms\tremaining: 5.79s\n",
      "85:\tlearn: 0.0179681\ttotal: 982ms\tremaining: 5.87s\n",
      "86:\tlearn: 0.0177813\ttotal: 994ms\tremaining: 5.86s\n",
      "87:\tlearn: 0.0174460\ttotal: 1s\tremaining: 5.84s\n",
      "88:\tlearn: 0.0171958\ttotal: 1.01s\tremaining: 5.81s\n",
      "89:\tlearn: 0.0170389\ttotal: 1.02s\tremaining: 5.79s\n",
      "90:\tlearn: 0.0169060\ttotal: 1.03s\tremaining: 5.76s\n",
      "91:\tlearn: 0.0166568\ttotal: 1.04s\tremaining: 5.74s\n",
      "92:\tlearn: 0.0163562\ttotal: 1.05s\tremaining: 5.71s\n",
      "93:\tlearn: 0.0161454\ttotal: 1.06s\tremaining: 5.68s\n",
      "94:\tlearn: 0.0159438\ttotal: 1.06s\tremaining: 5.66s\n",
      "95:\tlearn: 0.0157605\ttotal: 1.07s\tremaining: 5.64s\n",
      "96:\tlearn: 0.0154367\ttotal: 1.08s\tremaining: 5.61s\n",
      "97:\tlearn: 0.0151502\ttotal: 1.09s\tremaining: 5.59s\n",
      "98:\tlearn: 0.0150166\ttotal: 1.1s\tremaining: 5.57s\n",
      "99:\tlearn: 0.0147354\ttotal: 1.11s\tremaining: 5.55s\n",
      "100:\tlearn: 0.0146056\ttotal: 1.12s\tremaining: 5.52s\n",
      "101:\tlearn: 0.0145009\ttotal: 1.13s\tremaining: 5.5s\n",
      "102:\tlearn: 0.0143455\ttotal: 1.14s\tremaining: 5.48s\n",
      "103:\tlearn: 0.0141945\ttotal: 1.14s\tremaining: 5.46s\n",
      "104:\tlearn: 0.0140762\ttotal: 1.15s\tremaining: 5.44s\n",
      "105:\tlearn: 0.0138240\ttotal: 1.16s\tremaining: 5.41s\n",
      "106:\tlearn: 0.0135897\ttotal: 1.17s\tremaining: 5.39s\n",
      "107:\tlearn: 0.0134634\ttotal: 1.18s\tremaining: 5.39s\n",
      "108:\tlearn: 0.0133010\ttotal: 1.19s\tremaining: 5.38s\n",
      "109:\tlearn: 0.0131464\ttotal: 1.2s\tremaining: 5.36s\n",
      "110:\tlearn: 0.0129957\ttotal: 1.21s\tremaining: 5.34s\n",
      "111:\tlearn: 0.0128153\ttotal: 1.22s\tremaining: 5.32s\n",
      "112:\tlearn: 0.0126628\ttotal: 1.23s\tremaining: 5.3s\n",
      "113:\tlearn: 0.0125833\ttotal: 1.24s\tremaining: 5.28s\n",
      "114:\tlearn: 0.0124208\ttotal: 1.25s\tremaining: 5.26s\n",
      "115:\tlearn: 0.0122635\ttotal: 1.26s\tremaining: 5.24s\n",
      "116:\tlearn: 0.0121493\ttotal: 1.26s\tremaining: 5.22s\n",
      "117:\tlearn: 0.0119542\ttotal: 1.27s\tremaining: 5.21s\n",
      "118:\tlearn: 0.0118060\ttotal: 1.28s\tremaining: 5.19s\n",
      "119:\tlearn: 0.0117356\ttotal: 1.29s\tremaining: 5.17s\n",
      "120:\tlearn: 0.0116124\ttotal: 1.3s\tremaining: 5.15s\n",
      "121:\tlearn: 0.0115104\ttotal: 1.31s\tremaining: 5.13s\n",
      "122:\tlearn: 0.0114074\ttotal: 1.32s\tremaining: 5.11s\n",
      "123:\tlearn: 0.0112440\ttotal: 1.33s\tremaining: 5.09s\n",
      "124:\tlearn: 0.0111138\ttotal: 1.34s\tremaining: 5.08s\n",
      "125:\tlearn: 0.0109454\ttotal: 1.34s\tremaining: 5.06s\n",
      "126:\tlearn: 0.0107932\ttotal: 1.36s\tremaining: 5.06s\n",
      "127:\tlearn: 0.0106333\ttotal: 1.37s\tremaining: 5.05s\n",
      "128:\tlearn: 0.0105064\ttotal: 1.38s\tremaining: 5.03s\n",
      "129:\tlearn: 0.0103789\ttotal: 1.39s\tremaining: 5.01s\n",
      "130:\tlearn: 0.0103127\ttotal: 1.4s\tremaining: 5s\n",
      "131:\tlearn: 0.0102145\ttotal: 1.41s\tremaining: 4.98s\n",
      "132:\tlearn: 0.0101248\ttotal: 1.41s\tremaining: 4.97s\n",
      "133:\tlearn: 0.0100136\ttotal: 1.43s\tremaining: 4.97s\n",
      "134:\tlearn: 0.0099040\ttotal: 1.44s\tremaining: 4.96s\n",
      "135:\tlearn: 0.0097914\ttotal: 1.45s\tremaining: 4.95s\n",
      "136:\tlearn: 0.0096530\ttotal: 1.46s\tremaining: 4.93s\n",
      "137:\tlearn: 0.0095631\ttotal: 1.47s\tremaining: 4.92s\n",
      "138:\tlearn: 0.0094676\ttotal: 1.48s\tremaining: 4.91s\n",
      "139:\tlearn: 0.0093612\ttotal: 1.49s\tremaining: 4.9s\n",
      "140:\tlearn: 0.0092951\ttotal: 1.5s\tremaining: 4.89s\n",
      "141:\tlearn: 0.0092386\ttotal: 1.51s\tremaining: 4.88s\n",
      "142:\tlearn: 0.0092012\ttotal: 1.52s\tremaining: 4.87s\n",
      "143:\tlearn: 0.0091104\ttotal: 1.53s\tremaining: 4.86s\n",
      "144:\tlearn: 0.0089779\ttotal: 1.55s\tremaining: 4.86s\n",
      "145:\tlearn: 0.0088700\ttotal: 1.56s\tremaining: 4.87s\n",
      "146:\tlearn: 0.0087588\ttotal: 1.57s\tremaining: 4.86s\n",
      "147:\tlearn: 0.0086490\ttotal: 1.59s\tremaining: 4.85s\n",
      "148:\tlearn: 0.0085347\ttotal: 1.6s\tremaining: 4.83s\n",
      "149:\tlearn: 0.0084432\ttotal: 1.61s\tremaining: 4.82s\n",
      "150:\tlearn: 0.0083323\ttotal: 1.62s\tremaining: 4.81s\n",
      "151:\tlearn: 0.0082407\ttotal: 1.63s\tremaining: 4.8s\n",
      "152:\tlearn: 0.0081456\ttotal: 1.64s\tremaining: 4.79s\n",
      "153:\tlearn: 0.0080733\ttotal: 1.65s\tremaining: 4.77s\n",
      "154:\tlearn: 0.0079829\ttotal: 1.66s\tremaining: 4.76s\n",
      "155:\tlearn: 0.0078898\ttotal: 1.67s\tremaining: 4.74s\n",
      "156:\tlearn: 0.0078381\ttotal: 1.67s\tremaining: 4.72s\n",
      "157:\tlearn: 0.0077685\ttotal: 1.68s\tremaining: 4.71s\n",
      "158:\tlearn: 0.0077204\ttotal: 1.69s\tremaining: 4.69s\n",
      "159:\tlearn: 0.0076586\ttotal: 1.7s\tremaining: 4.68s\n",
      "160:\tlearn: 0.0076071\ttotal: 1.71s\tremaining: 4.66s\n",
      "161:\tlearn: 0.0075184\ttotal: 1.72s\tremaining: 4.64s\n",
      "162:\tlearn: 0.0074779\ttotal: 1.73s\tremaining: 4.63s\n",
      "163:\tlearn: 0.0074268\ttotal: 1.74s\tremaining: 4.61s\n",
      "164:\tlearn: 0.0073907\ttotal: 1.75s\tremaining: 4.6s\n",
      "165:\tlearn: 0.0073426\ttotal: 1.76s\tremaining: 4.6s\n",
      "166:\tlearn: 0.0072584\ttotal: 1.77s\tremaining: 4.58s\n",
      "167:\tlearn: 0.0071990\ttotal: 1.78s\tremaining: 4.57s\n",
      "168:\tlearn: 0.0071643\ttotal: 1.78s\tremaining: 4.55s\n",
      "169:\tlearn: 0.0071084\ttotal: 1.79s\tremaining: 4.54s\n",
      "170:\tlearn: 0.0070572\ttotal: 1.8s\tremaining: 4.52s\n",
      "171:\tlearn: 0.0070296\ttotal: 1.81s\tremaining: 4.51s\n",
      "172:\tlearn: 0.0069854\ttotal: 1.82s\tremaining: 4.49s\n",
      "173:\tlearn: 0.0069463\ttotal: 1.83s\tremaining: 4.48s\n",
      "174:\tlearn: 0.0068960\ttotal: 1.84s\tremaining: 4.46s\n",
      "175:\tlearn: 0.0068342\ttotal: 1.85s\tremaining: 4.45s\n",
      "176:\tlearn: 0.0067722\ttotal: 1.85s\tremaining: 4.43s\n",
      "177:\tlearn: 0.0067152\ttotal: 1.86s\tremaining: 4.42s\n",
      "178:\tlearn: 0.0066696\ttotal: 1.87s\tremaining: 4.4s\n",
      "179:\tlearn: 0.0066109\ttotal: 1.88s\tremaining: 4.39s\n",
      "180:\tlearn: 0.0065609\ttotal: 1.89s\tremaining: 4.37s\n",
      "181:\tlearn: 0.0065091\ttotal: 1.9s\tremaining: 4.36s\n",
      "182:\tlearn: 0.0064588\ttotal: 1.91s\tremaining: 4.35s\n",
      "183:\tlearn: 0.0064318\ttotal: 1.92s\tremaining: 4.33s\n",
      "184:\tlearn: 0.0063793\ttotal: 1.93s\tremaining: 4.32s\n",
      "185:\tlearn: 0.0063304\ttotal: 1.94s\tremaining: 4.31s\n",
      "186:\tlearn: 0.0062822\ttotal: 1.95s\tremaining: 4.31s\n",
      "187:\tlearn: 0.0062350\ttotal: 1.96s\tremaining: 4.29s\n",
      "188:\tlearn: 0.0061875\ttotal: 1.97s\tremaining: 4.28s\n",
      "189:\tlearn: 0.0061449\ttotal: 1.98s\tremaining: 4.26s\n",
      "190:\tlearn: 0.0060819\ttotal: 1.99s\tremaining: 4.25s\n",
      "191:\tlearn: 0.0060434\ttotal: 1.99s\tremaining: 4.24s\n",
      "192:\tlearn: 0.0059988\ttotal: 2s\tremaining: 4.22s\n",
      "193:\tlearn: 0.0059656\ttotal: 2.01s\tremaining: 4.21s\n",
      "194:\tlearn: 0.0059089\ttotal: 2.02s\tremaining: 4.2s\n",
      "195:\tlearn: 0.0058619\ttotal: 2.03s\tremaining: 4.18s\n",
      "196:\tlearn: 0.0058185\ttotal: 2.04s\tremaining: 4.17s\n",
      "197:\tlearn: 0.0057839\ttotal: 2.05s\tremaining: 4.15s\n",
      "198:\tlearn: 0.0057397\ttotal: 2.06s\tremaining: 4.14s\n",
      "199:\tlearn: 0.0057080\ttotal: 2.06s\tremaining: 4.13s\n",
      "200:\tlearn: 0.0056602\ttotal: 2.07s\tremaining: 4.11s\n",
      "201:\tlearn: 0.0056269\ttotal: 2.08s\tremaining: 4.1s\n",
      "202:\tlearn: 0.0055918\ttotal: 2.09s\tremaining: 4.09s\n",
      "203:\tlearn: 0.0055691\ttotal: 2.1s\tremaining: 4.08s\n",
      "204:\tlearn: 0.0055310\ttotal: 2.11s\tremaining: 4.06s\n",
      "205:\tlearn: 0.0055019\ttotal: 2.12s\tremaining: 4.05s\n",
      "206:\tlearn: 0.0054759\ttotal: 2.13s\tremaining: 4.04s\n",
      "207:\tlearn: 0.0054429\ttotal: 2.14s\tremaining: 4.03s\n",
      "208:\tlearn: 0.0054196\ttotal: 2.15s\tremaining: 4.02s\n",
      "209:\tlearn: 0.0053770\ttotal: 2.16s\tremaining: 4.01s\n",
      "210:\tlearn: 0.0053465\ttotal: 2.17s\tremaining: 4s\n",
      "211:\tlearn: 0.0053159\ttotal: 2.18s\tremaining: 3.99s\n",
      "212:\tlearn: 0.0052863\ttotal: 2.19s\tremaining: 3.97s\n",
      "213:\tlearn: 0.0052502\ttotal: 2.2s\tremaining: 3.96s\n",
      "214:\tlearn: 0.0052105\ttotal: 2.2s\tremaining: 3.95s\n",
      "215:\tlearn: 0.0051781\ttotal: 2.21s\tremaining: 3.94s\n",
      "216:\tlearn: 0.0051547\ttotal: 2.22s\tremaining: 3.92s\n",
      "217:\tlearn: 0.0051183\ttotal: 2.23s\tremaining: 3.91s\n",
      "218:\tlearn: 0.0050849\ttotal: 2.24s\tremaining: 3.9s\n",
      "219:\tlearn: 0.0050543\ttotal: 2.25s\tremaining: 3.88s\n",
      "220:\tlearn: 0.0050301\ttotal: 2.26s\tremaining: 3.87s\n",
      "221:\tlearn: 0.0049974\ttotal: 2.27s\tremaining: 3.86s\n",
      "222:\tlearn: 0.0049653\ttotal: 2.27s\tremaining: 3.84s\n",
      "223:\tlearn: 0.0049391\ttotal: 2.28s\tremaining: 3.83s\n",
      "224:\tlearn: 0.0049039\ttotal: 2.29s\tremaining: 3.82s\n",
      "225:\tlearn: 0.0048783\ttotal: 2.3s\tremaining: 3.81s\n",
      "226:\tlearn: 0.0048584\ttotal: 2.31s\tremaining: 3.79s\n",
      "227:\tlearn: 0.0048384\ttotal: 2.32s\tremaining: 3.78s\n",
      "228:\tlearn: 0.0048176\ttotal: 2.33s\tremaining: 3.78s\n",
      "229:\tlearn: 0.0048069\ttotal: 2.34s\tremaining: 3.77s\n",
      "230:\tlearn: 0.0047934\ttotal: 2.35s\tremaining: 3.76s\n",
      "231:\tlearn: 0.0047694\ttotal: 2.36s\tremaining: 3.74s\n",
      "232:\tlearn: 0.0047374\ttotal: 2.37s\tremaining: 3.73s\n",
      "233:\tlearn: 0.0047157\ttotal: 2.38s\tremaining: 3.72s\n",
      "234:\tlearn: 0.0046938\ttotal: 2.39s\tremaining: 3.71s\n",
      "235:\tlearn: 0.0046680\ttotal: 2.4s\tremaining: 3.69s\n",
      "236:\tlearn: 0.0046380\ttotal: 2.4s\tremaining: 3.68s\n",
      "237:\tlearn: 0.0046083\ttotal: 2.41s\tremaining: 3.67s\n",
      "238:\tlearn: 0.0045896\ttotal: 2.42s\tremaining: 3.66s\n",
      "239:\tlearn: 0.0045477\ttotal: 2.43s\tremaining: 3.65s\n",
      "240:\tlearn: 0.0045183\ttotal: 2.44s\tremaining: 3.63s\n",
      "241:\tlearn: 0.0044957\ttotal: 2.45s\tremaining: 3.62s\n",
      "242:\tlearn: 0.0044655\ttotal: 2.46s\tremaining: 3.61s\n",
      "243:\tlearn: 0.0044381\ttotal: 2.46s\tremaining: 3.6s\n",
      "244:\tlearn: 0.0044216\ttotal: 2.47s\tremaining: 3.58s\n",
      "245:\tlearn: 0.0043937\ttotal: 2.48s\tremaining: 3.57s\n",
      "246:\tlearn: 0.0043668\ttotal: 2.49s\tremaining: 3.56s\n",
      "247:\tlearn: 0.0043473\ttotal: 2.5s\tremaining: 3.55s\n",
      "248:\tlearn: 0.0043187\ttotal: 2.52s\tremaining: 3.55s\n",
      "249:\tlearn: 0.0042897\ttotal: 2.53s\tremaining: 3.54s\n",
      "250:\tlearn: 0.0042633\ttotal: 2.54s\tremaining: 3.53s\n",
      "251:\tlearn: 0.0042395\ttotal: 2.55s\tremaining: 3.52s\n",
      "252:\tlearn: 0.0042262\ttotal: 2.57s\tremaining: 3.52s\n",
      "253:\tlearn: 0.0042019\ttotal: 2.58s\tremaining: 3.52s\n",
      "254:\tlearn: 0.0041781\ttotal: 2.59s\tremaining: 3.51s\n",
      "255:\tlearn: 0.0041465\ttotal: 2.6s\tremaining: 3.5s\n",
      "256:\tlearn: 0.0041250\ttotal: 2.62s\tremaining: 3.49s\n",
      "257:\tlearn: 0.0041072\ttotal: 2.62s\tremaining: 3.48s\n",
      "258:\tlearn: 0.0040932\ttotal: 2.63s\tremaining: 3.47s\n",
      "259:\tlearn: 0.0040785\ttotal: 2.64s\tremaining: 3.46s\n",
      "260:\tlearn: 0.0040556\ttotal: 2.66s\tremaining: 3.45s\n",
      "261:\tlearn: 0.0040300\ttotal: 2.67s\tremaining: 3.44s\n",
      "262:\tlearn: 0.0040071\ttotal: 2.68s\tremaining: 3.43s\n",
      "263:\tlearn: 0.0039842\ttotal: 2.69s\tremaining: 3.42s\n",
      "264:\tlearn: 0.0039608\ttotal: 2.7s\tremaining: 3.41s\n",
      "265:\tlearn: 0.0039374\ttotal: 2.71s\tremaining: 3.4s\n",
      "266:\tlearn: 0.0039166\ttotal: 2.71s\tremaining: 3.39s\n",
      "267:\tlearn: 0.0038930\ttotal: 2.73s\tremaining: 3.38s\n",
      "268:\tlearn: 0.0038679\ttotal: 2.74s\tremaining: 3.37s\n",
      "269:\tlearn: 0.0038445\ttotal: 2.75s\tremaining: 3.36s\n",
      "270:\tlearn: 0.0038234\ttotal: 2.76s\tremaining: 3.35s\n",
      "271:\tlearn: 0.0038048\ttotal: 2.77s\tremaining: 3.34s\n",
      "272:\tlearn: 0.0037885\ttotal: 2.77s\tremaining: 3.32s\n",
      "273:\tlearn: 0.0037687\ttotal: 2.78s\tremaining: 3.31s\n",
      "274:\tlearn: 0.0037480\ttotal: 2.79s\tremaining: 3.3s\n",
      "275:\tlearn: 0.0037223\ttotal: 2.8s\tremaining: 3.29s\n",
      "276:\tlearn: 0.0036976\ttotal: 2.81s\tremaining: 3.28s\n",
      "277:\tlearn: 0.0036779\ttotal: 2.82s\tremaining: 3.26s\n",
      "278:\tlearn: 0.0036592\ttotal: 2.83s\tremaining: 3.25s\n",
      "279:\tlearn: 0.0036360\ttotal: 2.83s\tremaining: 3.24s\n",
      "280:\tlearn: 0.0036239\ttotal: 2.84s\tremaining: 3.23s\n",
      "281:\tlearn: 0.0036053\ttotal: 2.85s\tremaining: 3.22s\n",
      "282:\tlearn: 0.0035836\ttotal: 2.86s\tremaining: 3.21s\n",
      "283:\tlearn: 0.0035678\ttotal: 2.87s\tremaining: 3.19s\n",
      "284:\tlearn: 0.0035512\ttotal: 2.88s\tremaining: 3.18s\n",
      "285:\tlearn: 0.0035328\ttotal: 2.89s\tremaining: 3.17s\n",
      "286:\tlearn: 0.0035176\ttotal: 2.9s\tremaining: 3.16s\n",
      "287:\tlearn: 0.0034991\ttotal: 2.91s\tremaining: 3.15s\n",
      "288:\tlearn: 0.0034784\ttotal: 2.92s\tremaining: 3.14s\n",
      "289:\tlearn: 0.0034590\ttotal: 2.93s\tremaining: 3.13s\n",
      "290:\tlearn: 0.0034478\ttotal: 2.94s\tremaining: 3.12s\n",
      "291:\tlearn: 0.0034263\ttotal: 2.95s\tremaining: 3.11s\n",
      "292:\tlearn: 0.0034128\ttotal: 2.95s\tremaining: 3.1s\n",
      "293:\tlearn: 0.0034024\ttotal: 2.96s\tremaining: 3.08s\n",
      "294:\tlearn: 0.0033855\ttotal: 2.97s\tremaining: 3.07s\n",
      "295:\tlearn: 0.0033691\ttotal: 2.98s\tremaining: 3.06s\n",
      "296:\tlearn: 0.0033538\ttotal: 2.99s\tremaining: 3.05s\n",
      "297:\tlearn: 0.0033433\ttotal: 3s\tremaining: 3.04s\n",
      "298:\tlearn: 0.0033311\ttotal: 3.01s\tremaining: 3.03s\n",
      "299:\tlearn: 0.0033202\ttotal: 3.02s\tremaining: 3.02s\n",
      "300:\tlearn: 0.0033086\ttotal: 3.02s\tremaining: 3s\n",
      "301:\tlearn: 0.0032962\ttotal: 3.03s\tremaining: 2.99s\n",
      "302:\tlearn: 0.0032867\ttotal: 3.04s\tremaining: 2.98s\n",
      "303:\tlearn: 0.0032729\ttotal: 3.05s\tremaining: 2.97s\n",
      "304:\tlearn: 0.0032626\ttotal: 3.06s\tremaining: 2.96s\n",
      "305:\tlearn: 0.0032506\ttotal: 3.07s\tremaining: 2.95s\n",
      "306:\tlearn: 0.0032398\ttotal: 3.08s\tremaining: 2.94s\n",
      "307:\tlearn: 0.0032269\ttotal: 3.09s\tremaining: 2.93s\n",
      "308:\tlearn: 0.0032078\ttotal: 3.1s\tremaining: 2.92s\n",
      "309:\tlearn: 0.0031924\ttotal: 3.12s\tremaining: 2.91s\n",
      "310:\tlearn: 0.0031810\ttotal: 3.12s\tremaining: 2.9s\n",
      "311:\tlearn: 0.0031681\ttotal: 3.13s\tremaining: 2.89s\n",
      "312:\tlearn: 0.0031539\ttotal: 3.14s\tremaining: 2.88s\n",
      "313:\tlearn: 0.0031386\ttotal: 3.15s\tremaining: 2.87s\n",
      "314:\tlearn: 0.0031265\ttotal: 3.16s\tremaining: 2.86s\n",
      "315:\tlearn: 0.0031137\ttotal: 3.17s\tremaining: 2.85s\n",
      "316:\tlearn: 0.0030977\ttotal: 3.18s\tremaining: 2.84s\n",
      "317:\tlearn: 0.0030829\ttotal: 3.19s\tremaining: 2.82s\n",
      "318:\tlearn: 0.0030691\ttotal: 3.19s\tremaining: 2.81s\n",
      "319:\tlearn: 0.0030544\ttotal: 3.2s\tremaining: 2.8s\n",
      "320:\tlearn: 0.0030407\ttotal: 3.21s\tremaining: 2.79s\n",
      "321:\tlearn: 0.0030275\ttotal: 3.22s\tremaining: 2.78s\n",
      "322:\tlearn: 0.0030186\ttotal: 3.23s\tremaining: 2.77s\n",
      "323:\tlearn: 0.0030078\ttotal: 3.24s\tremaining: 2.76s\n",
      "324:\tlearn: 0.0029991\ttotal: 3.25s\tremaining: 2.75s\n",
      "325:\tlearn: 0.0029908\ttotal: 3.26s\tremaining: 2.74s\n",
      "326:\tlearn: 0.0029806\ttotal: 3.26s\tremaining: 2.73s\n",
      "327:\tlearn: 0.0029694\ttotal: 3.27s\tremaining: 2.71s\n",
      "328:\tlearn: 0.0029611\ttotal: 3.28s\tremaining: 2.71s\n",
      "329:\tlearn: 0.0029551\ttotal: 3.3s\tremaining: 2.7s\n",
      "330:\tlearn: 0.0029461\ttotal: 3.31s\tremaining: 2.69s\n",
      "331:\tlearn: 0.0029304\ttotal: 3.31s\tremaining: 2.68s\n",
      "332:\tlearn: 0.0029192\ttotal: 3.32s\tremaining: 2.67s\n",
      "333:\tlearn: 0.0029109\ttotal: 3.33s\tremaining: 2.65s\n",
      "334:\tlearn: 0.0029016\ttotal: 3.34s\tremaining: 2.64s\n",
      "335:\tlearn: 0.0028883\ttotal: 3.35s\tremaining: 2.63s\n",
      "336:\tlearn: 0.0028777\ttotal: 3.36s\tremaining: 2.62s\n",
      "337:\tlearn: 0.0028663\ttotal: 3.37s\tremaining: 2.61s\n",
      "338:\tlearn: 0.0028564\ttotal: 3.38s\tremaining: 2.6s\n",
      "339:\tlearn: 0.0028440\ttotal: 3.38s\tremaining: 2.59s\n",
      "340:\tlearn: 0.0028352\ttotal: 3.39s\tremaining: 2.58s\n",
      "341:\tlearn: 0.0028255\ttotal: 3.4s\tremaining: 2.57s\n",
      "342:\tlearn: 0.0028161\ttotal: 3.41s\tremaining: 2.56s\n",
      "343:\tlearn: 0.0028042\ttotal: 3.42s\tremaining: 2.54s\n",
      "344:\tlearn: 0.0027946\ttotal: 3.43s\tremaining: 2.53s\n",
      "345:\tlearn: 0.0027834\ttotal: 3.44s\tremaining: 2.52s\n",
      "346:\tlearn: 0.0027715\ttotal: 3.44s\tremaining: 2.51s\n",
      "347:\tlearn: 0.0027645\ttotal: 3.46s\tremaining: 2.5s\n",
      "348:\tlearn: 0.0027555\ttotal: 3.47s\tremaining: 2.5s\n",
      "349:\tlearn: 0.0027458\ttotal: 3.48s\tremaining: 2.48s\n",
      "350:\tlearn: 0.0027387\ttotal: 3.49s\tremaining: 2.48s\n",
      "351:\tlearn: 0.0027301\ttotal: 3.5s\tremaining: 2.46s\n",
      "352:\tlearn: 0.0027181\ttotal: 3.51s\tremaining: 2.45s\n",
      "353:\tlearn: 0.0027104\ttotal: 3.52s\tremaining: 2.44s\n",
      "354:\tlearn: 0.0027046\ttotal: 3.53s\tremaining: 2.43s\n",
      "355:\tlearn: 0.0026964\ttotal: 3.54s\tremaining: 2.42s\n",
      "356:\tlearn: 0.0026872\ttotal: 3.55s\tremaining: 2.41s\n",
      "357:\tlearn: 0.0026772\ttotal: 3.56s\tremaining: 2.4s\n",
      "358:\tlearn: 0.0026694\ttotal: 3.57s\tremaining: 2.39s\n",
      "359:\tlearn: 0.0026620\ttotal: 3.58s\tremaining: 2.38s\n",
      "360:\tlearn: 0.0026539\ttotal: 3.59s\tremaining: 2.37s\n",
      "361:\tlearn: 0.0026459\ttotal: 3.6s\tremaining: 2.37s\n",
      "362:\tlearn: 0.0026365\ttotal: 3.61s\tremaining: 2.35s\n",
      "363:\tlearn: 0.0026262\ttotal: 3.62s\tremaining: 2.34s\n",
      "364:\tlearn: 0.0026158\ttotal: 3.63s\tremaining: 2.33s\n",
      "365:\tlearn: 0.0026082\ttotal: 3.63s\tremaining: 2.32s\n",
      "366:\tlearn: 0.0025958\ttotal: 3.65s\tremaining: 2.31s\n",
      "367:\tlearn: 0.0025881\ttotal: 3.66s\tremaining: 2.31s\n",
      "368:\tlearn: 0.0025821\ttotal: 3.67s\tremaining: 2.3s\n",
      "369:\tlearn: 0.0025733\ttotal: 3.68s\tremaining: 2.29s\n",
      "370:\tlearn: 0.0025608\ttotal: 3.69s\tremaining: 2.27s\n",
      "371:\tlearn: 0.0025556\ttotal: 3.69s\tremaining: 2.26s\n",
      "372:\tlearn: 0.0025458\ttotal: 3.7s\tremaining: 2.25s\n",
      "373:\tlearn: 0.0025364\ttotal: 3.71s\tremaining: 2.24s\n",
      "374:\tlearn: 0.0025278\ttotal: 3.72s\tremaining: 2.23s\n",
      "375:\tlearn: 0.0025176\ttotal: 3.73s\tremaining: 2.22s\n",
      "376:\tlearn: 0.0025095\ttotal: 3.74s\tremaining: 2.21s\n",
      "377:\tlearn: 0.0025002\ttotal: 3.75s\tremaining: 2.2s\n",
      "378:\tlearn: 0.0024906\ttotal: 3.76s\tremaining: 2.19s\n",
      "379:\tlearn: 0.0024809\ttotal: 3.77s\tremaining: 2.18s\n",
      "380:\tlearn: 0.0024756\ttotal: 3.78s\tremaining: 2.17s\n",
      "381:\tlearn: 0.0024654\ttotal: 3.79s\tremaining: 2.16s\n",
      "382:\tlearn: 0.0024562\ttotal: 3.81s\tremaining: 2.16s\n",
      "383:\tlearn: 0.0024487\ttotal: 3.82s\tremaining: 2.15s\n",
      "384:\tlearn: 0.0024381\ttotal: 3.83s\tremaining: 2.14s\n",
      "385:\tlearn: 0.0024310\ttotal: 3.84s\tremaining: 2.13s\n",
      "386:\tlearn: 0.0024252\ttotal: 3.85s\tremaining: 2.12s\n",
      "387:\tlearn: 0.0024174\ttotal: 3.87s\tremaining: 2.11s\n",
      "388:\tlearn: 0.0024076\ttotal: 3.87s\tremaining: 2.1s\n",
      "389:\tlearn: 0.0024020\ttotal: 3.88s\tremaining: 2.09s\n",
      "390:\tlearn: 0.0023941\ttotal: 3.89s\tremaining: 2.08s\n",
      "391:\tlearn: 0.0023865\ttotal: 3.9s\tremaining: 2.07s\n",
      "392:\tlearn: 0.0023824\ttotal: 3.91s\tremaining: 2.06s\n",
      "393:\tlearn: 0.0023745\ttotal: 3.92s\tremaining: 2.05s\n",
      "394:\tlearn: 0.0023644\ttotal: 3.93s\tremaining: 2.04s\n",
      "395:\tlearn: 0.0023556\ttotal: 3.93s\tremaining: 2.03s\n",
      "396:\tlearn: 0.0023454\ttotal: 3.94s\tremaining: 2.02s\n",
      "397:\tlearn: 0.0023327\ttotal: 3.95s\tremaining: 2s\n",
      "398:\tlearn: 0.0023249\ttotal: 3.96s\tremaining: 2s\n",
      "399:\tlearn: 0.0023155\ttotal: 3.97s\tremaining: 1.98s\n",
      "400:\tlearn: 0.0023099\ttotal: 3.98s\tremaining: 1.97s\n",
      "401:\tlearn: 0.0023005\ttotal: 3.99s\tremaining: 1.96s\n",
      "402:\tlearn: 0.0022942\ttotal: 4s\tremaining: 1.95s\n",
      "403:\tlearn: 0.0022856\ttotal: 4s\tremaining: 1.94s\n",
      "404:\tlearn: 0.0022773\ttotal: 4.01s\tremaining: 1.93s\n",
      "405:\tlearn: 0.0022714\ttotal: 4.02s\tremaining: 1.92s\n",
      "406:\tlearn: 0.0022651\ttotal: 4.03s\tremaining: 1.91s\n",
      "407:\tlearn: 0.0022571\ttotal: 4.04s\tremaining: 1.9s\n",
      "408:\tlearn: 0.0022469\ttotal: 4.05s\tremaining: 1.89s\n",
      "409:\tlearn: 0.0022388\ttotal: 4.07s\tremaining: 1.89s\n",
      "410:\tlearn: 0.0022326\ttotal: 4.08s\tremaining: 1.87s\n",
      "411:\tlearn: 0.0022271\ttotal: 4.09s\tremaining: 1.86s\n",
      "412:\tlearn: 0.0022210\ttotal: 4.09s\tremaining: 1.85s\n",
      "413:\tlearn: 0.0022140\ttotal: 4.1s\tremaining: 1.84s\n",
      "414:\tlearn: 0.0022085\ttotal: 4.11s\tremaining: 1.83s\n",
      "415:\tlearn: 0.0022007\ttotal: 4.12s\tremaining: 1.82s\n",
      "416:\tlearn: 0.0021940\ttotal: 4.13s\tremaining: 1.81s\n",
      "417:\tlearn: 0.0021910\ttotal: 4.14s\tremaining: 1.8s\n",
      "418:\tlearn: 0.0021858\ttotal: 4.14s\tremaining: 1.79s\n",
      "419:\tlearn: 0.0021821\ttotal: 4.15s\tremaining: 1.78s\n",
      "420:\tlearn: 0.0021755\ttotal: 4.16s\tremaining: 1.77s\n",
      "421:\tlearn: 0.0021684\ttotal: 4.17s\tremaining: 1.76s\n",
      "422:\tlearn: 0.0021604\ttotal: 4.18s\tremaining: 1.75s\n",
      "423:\tlearn: 0.0021552\ttotal: 4.19s\tremaining: 1.74s\n",
      "424:\tlearn: 0.0021483\ttotal: 4.2s\tremaining: 1.73s\n",
      "425:\tlearn: 0.0021418\ttotal: 4.2s\tremaining: 1.72s\n",
      "426:\tlearn: 0.0021362\ttotal: 4.21s\tremaining: 1.71s\n",
      "427:\tlearn: 0.0021284\ttotal: 4.22s\tremaining: 1.7s\n",
      "428:\tlearn: 0.0021236\ttotal: 4.23s\tremaining: 1.69s\n",
      "429:\tlearn: 0.0021177\ttotal: 4.24s\tremaining: 1.68s\n",
      "430:\tlearn: 0.0021122\ttotal: 4.25s\tremaining: 1.67s\n",
      "431:\tlearn: 0.0021057\ttotal: 4.26s\tremaining: 1.66s\n",
      "432:\tlearn: 0.0020980\ttotal: 4.27s\tremaining: 1.65s\n",
      "433:\tlearn: 0.0020909\ttotal: 4.28s\tremaining: 1.64s\n",
      "434:\tlearn: 0.0020847\ttotal: 4.29s\tremaining: 1.63s\n",
      "435:\tlearn: 0.0020768\ttotal: 4.3s\tremaining: 1.62s\n",
      "436:\tlearn: 0.0020701\ttotal: 4.31s\tremaining: 1.61s\n",
      "437:\tlearn: 0.0020636\ttotal: 4.32s\tremaining: 1.6s\n",
      "438:\tlearn: 0.0020564\ttotal: 4.32s\tremaining: 1.58s\n",
      "439:\tlearn: 0.0020497\ttotal: 4.33s\tremaining: 1.57s\n",
      "440:\tlearn: 0.0020434\ttotal: 4.34s\tremaining: 1.56s\n",
      "441:\tlearn: 0.0020384\ttotal: 4.35s\tremaining: 1.55s\n",
      "442:\tlearn: 0.0020314\ttotal: 4.36s\tremaining: 1.54s\n",
      "443:\tlearn: 0.0020245\ttotal: 4.37s\tremaining: 1.53s\n",
      "444:\tlearn: 0.0020191\ttotal: 4.38s\tremaining: 1.52s\n",
      "445:\tlearn: 0.0020136\ttotal: 4.38s\tremaining: 1.51s\n",
      "446:\tlearn: 0.0020081\ttotal: 4.39s\tremaining: 1.5s\n",
      "447:\tlearn: 0.0020031\ttotal: 4.4s\tremaining: 1.49s\n",
      "448:\tlearn: 0.0019967\ttotal: 4.41s\tremaining: 1.48s\n",
      "449:\tlearn: 0.0019909\ttotal: 4.42s\tremaining: 1.47s\n",
      "450:\tlearn: 0.0019858\ttotal: 4.43s\tremaining: 1.46s\n",
      "451:\tlearn: 0.0019803\ttotal: 4.43s\tremaining: 1.45s\n",
      "452:\tlearn: 0.0019761\ttotal: 4.45s\tremaining: 1.44s\n",
      "453:\tlearn: 0.0019705\ttotal: 4.46s\tremaining: 1.44s\n",
      "454:\tlearn: 0.0019640\ttotal: 4.47s\tremaining: 1.43s\n",
      "455:\tlearn: 0.0019602\ttotal: 4.48s\tremaining: 1.42s\n",
      "456:\tlearn: 0.0019557\ttotal: 4.49s\tremaining: 1.41s\n",
      "457:\tlearn: 0.0019515\ttotal: 4.5s\tremaining: 1.4s\n",
      "458:\tlearn: 0.0019462\ttotal: 4.51s\tremaining: 1.39s\n",
      "459:\tlearn: 0.0019399\ttotal: 4.52s\tremaining: 1.38s\n",
      "460:\tlearn: 0.0019352\ttotal: 4.53s\tremaining: 1.37s\n",
      "461:\tlearn: 0.0019312\ttotal: 4.54s\tremaining: 1.36s\n",
      "462:\tlearn: 0.0019266\ttotal: 4.55s\tremaining: 1.35s\n",
      "463:\tlearn: 0.0019210\ttotal: 4.56s\tremaining: 1.34s\n",
      "464:\tlearn: 0.0019162\ttotal: 4.57s\tremaining: 1.33s\n",
      "465:\tlearn: 0.0019141\ttotal: 4.58s\tremaining: 1.32s\n",
      "466:\tlearn: 0.0019096\ttotal: 4.59s\tremaining: 1.31s\n",
      "467:\tlearn: 0.0019047\ttotal: 4.59s\tremaining: 1.3s\n",
      "468:\tlearn: 0.0019003\ttotal: 4.6s\tremaining: 1.29s\n",
      "469:\tlearn: 0.0018970\ttotal: 4.61s\tremaining: 1.28s\n",
      "470:\tlearn: 0.0018912\ttotal: 4.62s\tremaining: 1.27s\n",
      "471:\tlearn: 0.0018863\ttotal: 4.64s\tremaining: 1.26s\n",
      "472:\tlearn: 0.0018818\ttotal: 4.65s\tremaining: 1.25s\n",
      "473:\tlearn: 0.0018818\ttotal: 4.66s\tremaining: 1.24s\n",
      "474:\tlearn: 0.0018759\ttotal: 4.67s\tremaining: 1.23s\n",
      "475:\tlearn: 0.0018708\ttotal: 4.67s\tremaining: 1.22s\n",
      "476:\tlearn: 0.0018664\ttotal: 4.68s\tremaining: 1.21s\n",
      "477:\tlearn: 0.0018613\ttotal: 4.69s\tremaining: 1.2s\n",
      "478:\tlearn: 0.0018570\ttotal: 4.7s\tremaining: 1.19s\n",
      "479:\tlearn: 0.0018511\ttotal: 4.71s\tremaining: 1.18s\n",
      "480:\tlearn: 0.0018449\ttotal: 4.72s\tremaining: 1.17s\n",
      "481:\tlearn: 0.0018449\ttotal: 4.73s\tremaining: 1.16s\n",
      "482:\tlearn: 0.0018396\ttotal: 4.74s\tremaining: 1.15s\n",
      "483:\tlearn: 0.0018351\ttotal: 4.74s\tremaining: 1.14s\n",
      "484:\tlearn: 0.0018308\ttotal: 4.75s\tremaining: 1.13s\n",
      "485:\tlearn: 0.0018277\ttotal: 4.76s\tremaining: 1.12s\n",
      "486:\tlearn: 0.0018242\ttotal: 4.77s\tremaining: 1.11s\n",
      "487:\tlearn: 0.0018207\ttotal: 4.78s\tremaining: 1.1s\n",
      "488:\tlearn: 0.0018163\ttotal: 4.79s\tremaining: 1.09s\n",
      "489:\tlearn: 0.0018115\ttotal: 4.79s\tremaining: 1.08s\n",
      "490:\tlearn: 0.0018078\ttotal: 4.8s\tremaining: 1.07s\n",
      "491:\tlearn: 0.0018022\ttotal: 4.81s\tremaining: 1.06s\n",
      "492:\tlearn: 0.0017981\ttotal: 4.82s\tremaining: 1.05s\n",
      "493:\tlearn: 0.0017948\ttotal: 4.84s\tremaining: 1.04s\n",
      "494:\tlearn: 0.0017915\ttotal: 4.84s\tremaining: 1.03s\n",
      "495:\tlearn: 0.0017853\ttotal: 4.85s\tremaining: 1.02s\n",
      "496:\tlearn: 0.0017804\ttotal: 4.87s\tremaining: 1.01s\n",
      "497:\tlearn: 0.0017760\ttotal: 4.88s\tremaining: 999ms\n",
      "498:\tlearn: 0.0017718\ttotal: 4.89s\tremaining: 989ms\n",
      "499:\tlearn: 0.0017679\ttotal: 4.9s\tremaining: 980ms\n",
      "500:\tlearn: 0.0017649\ttotal: 4.91s\tremaining: 970ms\n",
      "501:\tlearn: 0.0017599\ttotal: 4.92s\tremaining: 960ms\n",
      "502:\tlearn: 0.0017562\ttotal: 4.93s\tremaining: 951ms\n",
      "503:\tlearn: 0.0017536\ttotal: 4.94s\tremaining: 941ms\n",
      "504:\tlearn: 0.0017495\ttotal: 4.95s\tremaining: 932ms\n",
      "505:\tlearn: 0.0017465\ttotal: 4.96s\tremaining: 922ms\n",
      "506:\tlearn: 0.0017420\ttotal: 4.97s\tremaining: 912ms\n",
      "507:\tlearn: 0.0017393\ttotal: 4.98s\tremaining: 902ms\n",
      "508:\tlearn: 0.0017351\ttotal: 4.99s\tremaining: 892ms\n",
      "509:\tlearn: 0.0017321\ttotal: 5s\tremaining: 882ms\n",
      "510:\tlearn: 0.0017321\ttotal: 5.01s\tremaining: 872ms\n",
      "511:\tlearn: 0.0017283\ttotal: 5.02s\tremaining: 863ms\n",
      "512:\tlearn: 0.0017262\ttotal: 5.03s\tremaining: 854ms\n",
      "513:\tlearn: 0.0017237\ttotal: 5.05s\tremaining: 844ms\n",
      "514:\tlearn: 0.0017210\ttotal: 5.06s\tremaining: 834ms\n",
      "515:\tlearn: 0.0017146\ttotal: 5.06s\tremaining: 824ms\n",
      "516:\tlearn: 0.0017146\ttotal: 5.07s\tremaining: 814ms\n",
      "517:\tlearn: 0.0017146\ttotal: 5.08s\tremaining: 804ms\n",
      "518:\tlearn: 0.0017120\ttotal: 5.09s\tremaining: 794ms\n",
      "519:\tlearn: 0.0017081\ttotal: 5.1s\tremaining: 785ms\n",
      "520:\tlearn: 0.0017047\ttotal: 5.11s\tremaining: 775ms\n",
      "521:\tlearn: 0.0017026\ttotal: 5.12s\tremaining: 765ms\n",
      "522:\tlearn: 0.0016983\ttotal: 5.13s\tremaining: 755ms\n",
      "523:\tlearn: 0.0016948\ttotal: 5.13s\tremaining: 745ms\n",
      "524:\tlearn: 0.0016931\ttotal: 5.14s\tremaining: 735ms\n",
      "525:\tlearn: 0.0016898\ttotal: 5.15s\tremaining: 725ms\n",
      "526:\tlearn: 0.0016866\ttotal: 5.16s\tremaining: 715ms\n",
      "527:\tlearn: 0.0016833\ttotal: 5.17s\tremaining: 705ms\n",
      "528:\tlearn: 0.0016794\ttotal: 5.18s\tremaining: 695ms\n",
      "529:\tlearn: 0.0016761\ttotal: 5.19s\tremaining: 685ms\n",
      "530:\tlearn: 0.0016732\ttotal: 5.2s\tremaining: 675ms\n",
      "531:\tlearn: 0.0016701\ttotal: 5.21s\tremaining: 665ms\n",
      "532:\tlearn: 0.0016673\ttotal: 5.22s\tremaining: 656ms\n",
      "533:\tlearn: 0.0016637\ttotal: 5.23s\tremaining: 646ms\n",
      "534:\tlearn: 0.0016608\ttotal: 5.24s\tremaining: 636ms\n",
      "535:\tlearn: 0.0016597\ttotal: 5.25s\tremaining: 627ms\n",
      "536:\tlearn: 0.0016549\ttotal: 5.25s\tremaining: 617ms\n",
      "537:\tlearn: 0.0016513\ttotal: 5.26s\tremaining: 607ms\n",
      "538:\tlearn: 0.0016477\ttotal: 5.27s\tremaining: 597ms\n",
      "539:\tlearn: 0.0016451\ttotal: 5.28s\tremaining: 587ms\n",
      "540:\tlearn: 0.0016398\ttotal: 5.29s\tremaining: 577ms\n",
      "541:\tlearn: 0.0016365\ttotal: 5.3s\tremaining: 567ms\n",
      "542:\tlearn: 0.0016332\ttotal: 5.31s\tremaining: 557ms\n",
      "543:\tlearn: 0.0016300\ttotal: 5.31s\tremaining: 547ms\n",
      "544:\tlearn: 0.0016261\ttotal: 5.32s\tremaining: 537ms\n",
      "545:\tlearn: 0.0016226\ttotal: 5.33s\tremaining: 527ms\n",
      "546:\tlearn: 0.0016172\ttotal: 5.34s\tremaining: 517ms\n",
      "547:\tlearn: 0.0016138\ttotal: 5.35s\tremaining: 508ms\n",
      "548:\tlearn: 0.0016107\ttotal: 5.36s\tremaining: 498ms\n",
      "549:\tlearn: 0.0016079\ttotal: 5.37s\tremaining: 488ms\n",
      "550:\tlearn: 0.0016055\ttotal: 5.37s\tremaining: 478ms\n",
      "551:\tlearn: 0.0016014\ttotal: 5.38s\tremaining: 468ms\n",
      "552:\tlearn: 0.0015973\ttotal: 5.39s\tremaining: 458ms\n",
      "553:\tlearn: 0.0015938\ttotal: 5.4s\tremaining: 449ms\n",
      "554:\tlearn: 0.0015914\ttotal: 5.41s\tremaining: 439ms\n",
      "555:\tlearn: 0.0015914\ttotal: 5.42s\tremaining: 429ms\n",
      "556:\tlearn: 0.0015897\ttotal: 5.43s\tremaining: 420ms\n",
      "557:\tlearn: 0.0015867\ttotal: 5.44s\tremaining: 410ms\n",
      "558:\tlearn: 0.0015831\ttotal: 5.45s\tremaining: 400ms\n",
      "559:\tlearn: 0.0015789\ttotal: 5.46s\tremaining: 390ms\n",
      "560:\tlearn: 0.0015747\ttotal: 5.47s\tremaining: 380ms\n",
      "561:\tlearn: 0.0015707\ttotal: 5.48s\tremaining: 371ms\n",
      "562:\tlearn: 0.0015707\ttotal: 5.49s\tremaining: 361ms\n",
      "563:\tlearn: 0.0015661\ttotal: 5.5s\tremaining: 351ms\n",
      "564:\tlearn: 0.0015661\ttotal: 5.51s\tremaining: 341ms\n",
      "565:\tlearn: 0.0015627\ttotal: 5.52s\tremaining: 332ms\n",
      "566:\tlearn: 0.0015592\ttotal: 5.53s\tremaining: 322ms\n",
      "567:\tlearn: 0.0015543\ttotal: 5.54s\tremaining: 312ms\n",
      "568:\tlearn: 0.0015543\ttotal: 5.55s\tremaining: 302ms\n",
      "569:\tlearn: 0.0015543\ttotal: 5.56s\tremaining: 293ms\n",
      "570:\tlearn: 0.0015542\ttotal: 5.57s\tremaining: 283ms\n",
      "571:\tlearn: 0.0015500\ttotal: 5.58s\tremaining: 273ms\n",
      "572:\tlearn: 0.0015500\ttotal: 5.59s\tremaining: 263ms\n",
      "573:\tlearn: 0.0015462\ttotal: 5.6s\tremaining: 254ms\n",
      "574:\tlearn: 0.0015434\ttotal: 5.61s\tremaining: 244ms\n",
      "575:\tlearn: 0.0015395\ttotal: 5.62s\tremaining: 234ms\n",
      "576:\tlearn: 0.0015374\ttotal: 5.63s\tremaining: 224ms\n",
      "577:\tlearn: 0.0015346\ttotal: 5.64s\tremaining: 215ms\n",
      "578:\tlearn: 0.0015317\ttotal: 5.65s\tremaining: 205ms\n",
      "579:\tlearn: 0.0015286\ttotal: 5.66s\tremaining: 195ms\n",
      "580:\tlearn: 0.0015254\ttotal: 5.66s\tremaining: 185ms\n",
      "581:\tlearn: 0.0015228\ttotal: 5.67s\tremaining: 175ms\n",
      "582:\tlearn: 0.0015228\ttotal: 5.68s\tremaining: 166ms\n",
      "583:\tlearn: 0.0015228\ttotal: 5.69s\tremaining: 156ms\n",
      "584:\tlearn: 0.0015228\ttotal: 5.7s\tremaining: 146ms\n",
      "585:\tlearn: 0.0015201\ttotal: 5.71s\tremaining: 136ms\n",
      "586:\tlearn: 0.0015199\ttotal: 5.71s\tremaining: 127ms\n",
      "587:\tlearn: 0.0015158\ttotal: 5.72s\tremaining: 117ms\n",
      "588:\tlearn: 0.0015131\ttotal: 5.73s\tremaining: 107ms\n",
      "589:\tlearn: 0.0015131\ttotal: 5.74s\tremaining: 97.3ms\n",
      "590:\tlearn: 0.0015102\ttotal: 5.75s\tremaining: 87.6ms\n",
      "591:\tlearn: 0.0015099\ttotal: 5.76s\tremaining: 77.8ms\n",
      "592:\tlearn: 0.0015077\ttotal: 5.77s\tremaining: 68.1ms\n",
      "593:\tlearn: 0.0015048\ttotal: 5.78s\tremaining: 58.4ms\n",
      "594:\tlearn: 0.0015002\ttotal: 5.79s\tremaining: 48.7ms\n",
      "595:\tlearn: 0.0014973\ttotal: 5.8s\tremaining: 38.9ms\n",
      "596:\tlearn: 0.0014947\ttotal: 5.81s\tremaining: 29.2ms\n",
      "597:\tlearn: 0.0014912\ttotal: 5.82s\tremaining: 19.5ms\n",
      "598:\tlearn: 0.0014909\ttotal: 5.83s\tremaining: 9.73ms\n",
      "599:\tlearn: 0.0014909\ttotal: 5.84s\tremaining: 0us\n"
     ]
    },
    {
     "name": "stderr",
     "output_type": "stream",
     "text": [
      "E:\\OpenSoftware\\miniconda3\\envs\\flu_shot_predictor\\lib\\site-packages\\sklearn\\model_selection\\_search.py:925: UserWarning: One or more of the test scores are non-finite: [       nan        nan        nan        nan        nan        nan\n",
      " 0.78509866        nan        nan 0.82710049]\n",
      "  category=UserWarning\n"
     ]
    },
    {
     "data": {
      "text/plain": "RandomizedSearchCV(cv=3,\n                   estimator=<catboost.core.CatBoostClassifier object at 0x0000026F780F5948>,\n                   n_jobs=4,\n                   param_distributions={'l2_leaf_reg': [1, 2, 3],\n                                        'learning_rate': [0.15, 0.3, 0.5, 0.8,\n                                                          1],\n                                        'loss_function': ['Logloss'],\n                                        'max_depth': [10, 30, 50, 80, 100],\n                                        'n_estimators': [300, 600, 1000, 1500,\n                                                         2000]},\n                   random_state=42, scoring='roc_auc', verbose=2)"
     },
     "execution_count": 40,
     "metadata": {},
     "output_type": "execute_result"
    }
   ],
   "source": [
    "# for h1n1\n",
    "\n",
    "rscv_h1n1.fit(X_train, y_train['h1n1_vaccine'])"
   ],
   "metadata": {
    "collapsed": false,
    "pycharm": {
     "name": "#%%\n"
    }
   }
  },
  {
   "cell_type": "code",
   "execution_count": 41,
   "outputs": [
    {
     "name": "stdout",
     "output_type": "stream",
     "text": [
      "{'n_estimators': 600, 'max_depth': 10, 'loss_function': 'Logloss', 'learning_rate': 0.15, 'l2_leaf_reg': 2}\n",
      "0.8271004893185343\n",
      "<catboost.core.CatBoostClassifier object at 0x0000026F7801A4C8>\n",
      "Finished\n"
     ]
    }
   ],
   "source": [
    "print(rscv_h1n1.best_params_)\n",
    "print(rscv_h1n1.best_score_)\n",
    "print(rscv_h1n1.best_estimator_)\n",
    "print(\"Finished\")\n",
    "\n",
    "# already done. see below for results"
   ],
   "metadata": {
    "collapsed": false,
    "pycharm": {
     "name": "#%%\n"
    }
   }
  },
  {
   "cell_type": "markdown",
   "source": [
    "{'n_estimators': 1780, 'min_samples_split': 16, 'min_samples_leaf': 4, 'max_features': 'auto', 'max_depth': 100, 'bootstrap': False}\n",
    "0.8646527299947001\n",
    "\n",
    "{'n_estimators': 300, 'max_depth': 10, 'loss_function': 'Logloss', 'learning_rate': 0.15, 'l2_leaf_reg': 1}\n",
    "0.6828042328042327\n",
    "\n",
    "{'n_estimators': 300, 'max_depth': 10, 'loss_function': 'Logloss', 'learning_rate': 0.15, 'l2_leaf_reg': 1}\n",
    "0.6711538461538462"
   ],
   "metadata": {
    "collapsed": false,
    "pycharm": {
     "name": "#%% md\n"
    }
   }
  },
  {
   "cell_type": "code",
   "execution_count": null,
   "outputs": [
    {
     "name": "stdout",
     "output_type": "stream",
     "text": [
      "Fitting 5 folds for each of 10 candidates, totalling 50 fits\n"
     ]
    }
   ],
   "source": [
    "# for seasonal\n",
    "\n",
    "rscv_seasonal.fit(X_train, y_train['seasonal_vaccine'])"
   ],
   "metadata": {
    "collapsed": false,
    "pycharm": {
     "name": "#%%\n",
     "is_executing": true
    }
   }
  },
  {
   "cell_type": "code",
   "execution_count": null,
   "outputs": [],
   "source": [
    "print(rscv_seasonal.best_params_)\n",
    "print(rscv_seasonal.best_score_)\n",
    "print(rscv_seasonal.best_estimator_)\n",
    "print(\"Finished\")\n",
    "\n",
    "# already done. see below for results"
   ],
   "metadata": {
    "collapsed": false,
    "pycharm": {
     "name": "#%%\n"
    }
   }
  },
  {
   "cell_type": "markdown",
   "source": [
    "{'n_estimators': 1780, 'min_samples_split': 16, 'min_samples_leaf': 4, 'max_features': 'auto', 'max_depth': 100, 'bootstrap': False}\n",
    "0.8646527299947001"
   ],
   "metadata": {
    "collapsed": false
   }
  },
  {
   "cell_type": "markdown",
   "source": [
    "### Fine tune with Grid Search CV"
   ],
   "metadata": {
    "collapsed": false,
    "pycharm": {
     "name": "#%% md\n"
    }
   }
  },
  {
   "cell_type": "code",
   "execution_count": 60,
   "outputs": [],
   "source": [
    "# grid = {\n",
    "#     # 'n_estimators': [n for n in range(1, max_val) if n % 10 == 0],\n",
    "#     # 'max_features': ['auto', 'sqrt'],\n",
    "#     # 'max_depth': [n for n in range(0, max_val) if n % 10 == 0] + [None],\n",
    "#     # 'min_samples_split': [n for n in range(0, 30) if n % 2 == 0],\n",
    "#     # 'min_samples_leaf': [n for n in range(0, 30) if n % 2 == 0],\n",
    "#     # 'bootstrap': [True, False]\n",
    "#\n",
    "#     'n_estimators': [1700, 1780, 1900],\n",
    "#     'max_features': ['auto'],\n",
    "#     'max_depth': [90, 100, 110] + [None],\n",
    "#     'min_samples_split': [12, 16, 20],\n",
    "#     'min_samples_leaf': [3, 4, 5],\n",
    "#     'bootstrap': [False]\n",
    "# }\n",
    "#\n",
    "# gscv = GridSearchCV(\n",
    "#     estimator=RandomForestClassifier(),\n",
    "#     param_grid=grid,\n",
    "#     scoring='roc_auc',\n",
    "#     verbose=10,\n",
    "#     n_jobs=4\n",
    "# )\n",
    "#\n",
    "# print(\"Ready\")"
   ],
   "metadata": {
    "collapsed": false,
    "pycharm": {
     "name": "#%%\n"
    }
   }
  },
  {
   "cell_type": "code",
   "execution_count": 61,
   "outputs": [],
   "source": [
    "# gscv.fit(X_train_transform, y_train.values.ravel())\n",
    "#\n",
    "# print(grid.best_estimator_)\n",
    "# print(grid.best_params_)\n",
    "# print(grid.best_score_)\n",
    "\n",
    "# print(\"Finished\")"
   ],
   "metadata": {
    "collapsed": false,
    "pycharm": {
     "name": "#%%\n"
    }
   }
  },
  {
   "cell_type": "markdown",
   "source": [
    "### Train with RandomForestClassifier"
   ],
   "metadata": {
    "collapsed": false,
    "pycharm": {
     "name": "#%% md\n"
    }
   }
  },
  {
   "cell_type": "code",
   "execution_count": 65,
   "outputs": [],
   "source": [
    "rfc_h1n1 = RandomForestClassifier(\n",
    "    n_estimators=1780,\n",
    "    max_features=\"auto\",\n",
    "    max_depth=100,\n",
    "    min_samples_split=16,\n",
    "    min_samples_leaf=4,\n",
    "    bootstrap=False\n",
    ")\n",
    "\n",
    "rfc_seasonal = RandomForestClassifier(\n",
    "    n_estimators=1780,\n",
    "    max_features=\"auto\",\n",
    "    max_depth=100,\n",
    "    min_samples_split=16,\n",
    "    min_samples_leaf=4,\n",
    "    bootstrap=False\n",
    ")"
   ],
   "metadata": {
    "collapsed": false,
    "pycharm": {
     "name": "#%%\n"
    }
   }
  },
  {
   "cell_type": "code",
   "execution_count": 63,
   "outputs": [
    {
     "name": "stdout",
     "output_type": "stream",
     "text": [
      "H1N1 Fit complete\n"
     ]
    },
    {
     "data": {
      "text/plain": "0.8262119249541096"
     },
     "execution_count": 63,
     "metadata": {},
     "output_type": "execute_result"
    }
   ],
   "source": [
    "rfc_h1n1.fit(X_train, y_train['h1n1_vaccine'])\n",
    "print(\"H1N1 Fit complete\")\n",
    "\n",
    "predicted = rfc_h1n1.predict_proba(X_test)\n",
    "\n",
    "h1n1_predicted = pd.DataFrame( {\n",
    "    \"h1n1_vaccine\": predicted[:, 1],\n",
    "    },\n",
    "    index = y_test.index\n",
    ")\n",
    "\n",
    "assert (h1n1_predicted.shape[1] == 1)\n",
    "\n",
    "roc_auc_score(y_test[\"h1n1_vaccine\"], h1n1_predicted)"
   ],
   "metadata": {
    "collapsed": false,
    "pycharm": {
     "name": "#%%\n"
    }
   }
  },
  {
   "cell_type": "code",
   "execution_count": 64,
   "outputs": [
    {
     "name": "stdout",
     "output_type": "stream",
     "text": [
      "Seasonal Fit complete\n"
     ]
    },
    {
     "data": {
      "text/plain": "0.7209534990096823"
     },
     "execution_count": 64,
     "metadata": {},
     "output_type": "execute_result"
    }
   ],
   "source": [
    "rfc_seasonal.fit(X_train, y_train['seasonal_vaccine'])\n",
    "print(\"Seasonal Fit complete\")\n",
    "\n",
    "predicted = rfc_h1n1.predict_proba(X_test)\n",
    "\n",
    "seasonal_predicted = pd.DataFrame( {\n",
    "    \"seasonal_vaccine\": predicted[:, 1],\n",
    "    },\n",
    "    index = y_test.index\n",
    ")\n",
    "\n",
    "assert (seasonal_predicted.shape[1] == 1)\n",
    "\n",
    "roc_auc_score(y_test[\"seasonal_vaccine\"], seasonal_predicted)"
   ],
   "metadata": {
    "collapsed": false,
    "pycharm": {
     "name": "#%%\n"
    }
   }
  },
  {
   "cell_type": "markdown",
   "source": [
    "### Execute model on given test data"
   ],
   "metadata": {
    "collapsed": false,
    "pycharm": {
     "name": "#%% md\n"
    }
   }
  },
  {
   "cell_type": "code",
   "execution_count": 20,
   "outputs": [
    {
     "name": "stdout",
     "output_type": "stream",
     "text": [
      "Done\n"
     ]
    }
   ],
   "source": [
    "rfc.fit(train_transform, label_h1n1.values.ravel())\n",
    "h1n1_result = rfc.predict_proba(test_transform)\n",
    "\n",
    "print(\"Done\")"
   ],
   "metadata": {
    "collapsed": false,
    "pycharm": {
     "name": "#%%\n"
    }
   }
  },
  {
   "cell_type": "code",
   "execution_count": 21,
   "outputs": [
    {
     "name": "stdout",
     "output_type": "stream",
     "text": [
      "(26708, 2)\n"
     ]
    },
    {
     "data": {
      "text/plain": "   respondent_id  h1n1_vaccine\n0          26707      0.173791\n1          26708      0.045505\n2          26709      0.288724\n3          26710      0.558850\n4          26711      0.319752",
      "text/html": "<div>\n<style scoped>\n    .dataframe tbody tr th:only-of-type {\n        vertical-align: middle;\n    }\n\n    .dataframe tbody tr th {\n        vertical-align: top;\n    }\n\n    .dataframe thead th {\n        text-align: right;\n    }\n</style>\n<table border=\"1\" class=\"dataframe\">\n  <thead>\n    <tr style=\"text-align: right;\">\n      <th></th>\n      <th>respondent_id</th>\n      <th>h1n1_vaccine</th>\n    </tr>\n  </thead>\n  <tbody>\n    <tr>\n      <th>0</th>\n      <td>26707</td>\n      <td>0.173791</td>\n    </tr>\n    <tr>\n      <th>1</th>\n      <td>26708</td>\n      <td>0.045505</td>\n    </tr>\n    <tr>\n      <th>2</th>\n      <td>26709</td>\n      <td>0.288724</td>\n    </tr>\n    <tr>\n      <th>3</th>\n      <td>26710</td>\n      <td>0.558850</td>\n    </tr>\n    <tr>\n      <th>4</th>\n      <td>26711</td>\n      <td>0.319752</td>\n    </tr>\n  </tbody>\n</table>\n</div>"
     },
     "execution_count": 21,
     "metadata": {},
     "output_type": "execute_result"
    }
   ],
   "source": [
    "build = pd.DataFrame(test.index)\n",
    "\n",
    "build[\"h1n1_vaccine\"] = h1n1_result[:, 1]\n",
    "\n",
    "print(build.shape)\n",
    "\n",
    "assert (build.shape[0] == len(test.index) and build.shape[1] == 2)\n",
    "\n",
    "build.head()"
   ],
   "metadata": {
    "collapsed": false,
    "pycharm": {
     "name": "#%%\n"
    }
   }
  },
  {
   "cell_type": "markdown",
   "source": [
    "## 4. Format the table and save it as a csv file"
   ],
   "metadata": {
    "collapsed": false,
    "pycharm": {
     "name": "#%% md\n"
    }
   }
  },
  {
   "cell_type": "code",
   "execution_count": 22,
   "outputs": [],
   "source": [
    "# convert to a csv file\n",
    "\n",
    "build.to_csv(\"output.csv\", index=False)\n"
   ],
   "metadata": {
    "collapsed": false,
    "pycharm": {
     "name": "#%%\n"
    }
   }
  }
 ],
 "metadata": {
  "kernelspec": {
   "display_name": "Python 3",
   "language": "python",
   "name": "python3"
  },
  "language_info": {
   "codemirror_mode": {
    "name": "ipython",
    "version": 2
   },
   "file_extension": ".py",
   "mimetype": "text/x-python",
   "name": "python",
   "nbconvert_exporter": "python",
   "pygments_lexer": "ipython2",
   "version": "2.7.6"
  }
 },
 "nbformat": 4,
 "nbformat_minor": 0
}