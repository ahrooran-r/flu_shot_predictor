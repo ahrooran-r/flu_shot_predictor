{
 "cells": [
  {
   "cell_type": "code",
   "execution_count": 19,
   "metadata": {
    "collapsed": true
   },
   "outputs": [
    {
     "name": "stdout",
     "output_type": "stream",
     "text": [
      "Import complete\n"
     ]
    }
   ],
   "source": [
    "import numpy as np\n",
    "import pandas as pd\n",
    "pd.set_option('display.max_columns', None)\n",
    "pd.set_option(\"max_rows\", 200)\n",
    "\n",
    "from sklearn.preprocessing import StandardScaler\n",
    "from sklearn.preprocessing import OneHotEncoder\n",
    "\n",
    "from sklearn.impute import SimpleImputer\n",
    "\n",
    "from sklearn.compose import ColumnTransformer\n",
    "\n",
    "from sklearn.pipeline import Pipeline\n",
    "\n",
    "from sklearn.cluster import DBSCAN\n",
    "\n",
    "print(\"Import complete\")"
   ]
  },
  {
   "cell_type": "markdown",
   "source": [
    "### Import all the datasets"
   ],
   "metadata": {
    "collapsed": false,
    "pycharm": {
     "name": "#%% md\n"
    }
   }
  },
  {
   "cell_type": "code",
   "execution_count": 20,
   "outputs": [
    {
     "name": "stdout",
     "output_type": "stream",
     "text": [
      "train df => rows: 26707, cols: 35\n",
      "train labels df => rows: 26707, cols: 2\n",
      "test df => rows: 26708, cols: 35\n"
     ]
    }
   ],
   "source": [
    "# test data\n",
    "test = pd.read_csv(r\"../files/test_set_features.csv\", index_col=\"respondent_id\")\n",
    "\n",
    "# train data\n",
    "train = pd.read_csv(r\"../files/training_set_features.csv\", index_col=\"respondent_id\")\n",
    "\n",
    "# target\n",
    "training_labels = pd.read_csv(r\"../files/training_set_labels.csv\", index_col=\"respondent_id\")\n",
    "label_h1n1 = training_labels[[\"h1n1_vaccine\"]]\n",
    "\n",
    "# check whether rows are equal\n",
    "print(\"train df => rows: %s, cols: %s\" % (train.shape[0], train.shape[1]))\n",
    "print(\"train labels df => rows: %s, cols: %s\" % (training_labels.shape[0], training_labels.shape[1]))\n",
    "print(\"test df => rows: %s, cols: %s\" % (test.shape[0], test.shape[1]))\n",
    "\n",
    "assert(train.shape[1] == test.shape[1])"
   ],
   "metadata": {
    "collapsed": false,
    "pycharm": {
     "name": "#%%\n"
    }
   }
  },
  {
   "cell_type": "markdown",
   "source": [
    "### Check for duplicates"
   ],
   "metadata": {
    "collapsed": false,
    "pycharm": {
     "name": "#%% md\n"
    }
   }
  },
  {
   "cell_type": "code",
   "execution_count": 21,
   "outputs": [
    {
     "name": "stdout",
     "output_type": "stream",
     "text": [
      "duplicates in original training dataset: 0\n",
      "duplicates in original testing dataset: 0\n"
     ]
    }
   ],
   "source": [
    "# check for duplicates\n",
    "original_data_dup_count = np.sum(train.duplicated())\n",
    "original_test_dup_count = np.sum(test.duplicated())\n",
    "\n",
    "print(\"duplicates in original training dataset: %s\" % original_data_dup_count)\n",
    "print(\"duplicates in original testing dataset: %s\" % original_test_dup_count)\n",
    "\n",
    "assert(original_data_dup_count == 0 and original_test_dup_count == 0)"
   ],
   "metadata": {
    "collapsed": false,
    "pycharm": {
     "name": "#%%\n"
    }
   }
  },
  {
   "cell_type": "code",
   "execution_count": 22,
   "outputs": [
    {
     "data": {
      "text/plain": "                         Column    Dtype  N_Unique  \\\n0         employment_occupation   object        23   \n1           employment_industry   object        21   \n2                hhs_geo_region   object        10   \n3   opinion_h1n1_vacc_effective  float64         5   \n4             opinion_h1n1_risk  float64         5   \n5   opinion_h1n1_sick_from_vacc  float64         5   \n6   opinion_seas_vacc_effective  float64         5   \n7             opinion_seas_risk  float64         5   \n8   opinion_seas_sick_from_vacc  float64         5   \n9                     age_group   object         5   \n10                 h1n1_concern  float64         4   \n11                    education   object         4   \n12                         race   object         4   \n13             household_adults  float64         4   \n14           household_children  float64         4   \n15               h1n1_knowledge  float64         3   \n16               income_poverty   object         3   \n17            employment_status   object         3   \n18                   census_msa   object         3   \n19    behavioral_antiviral_meds  float64         2   \n20         behavioral_avoidance  float64         2   \n21         behavioral_face_mask  float64         2   \n22        behavioral_wash_hands  float64         2   \n23  behavioral_large_gatherings  float64         2   \n24      behavioral_outside_home  float64         2   \n25        behavioral_touch_face  float64         2   \n26             doctor_recc_h1n1  float64         2   \n27         doctor_recc_seasonal  float64         2   \n28        chronic_med_condition  float64         2   \n29         child_under_6_months  float64         2   \n30                health_worker  float64         2   \n31             health_insurance  float64         2   \n32                          sex   object         2   \n33               marital_status   object         2   \n34                  rent_or_own   object         2   \n\n                                          Unique_vals  Null values  \n0   [nan, xgwztkwe, xtkaffoo, emcorrxb, vlluhbov, ...        13470  \n1   [nan, pxcmvdjn, rucpziij, wxleyezf, saaquncn, ...        13330  \n2   [oxchjgsf, bhuqouqj, qufhixun, lrircsnp, atmpe...            0  \n3                      [3.0, 5.0, 4.0, 2.0, 1.0, nan]          391  \n4                      [1.0, 4.0, 3.0, 2.0, 5.0, nan]          388  \n5                      [2.0, 4.0, 1.0, 5.0, 3.0, nan]          395  \n6                      [2.0, 4.0, 5.0, 3.0, 1.0, nan]          462  \n7                      [1.0, 2.0, 4.0, 3.0, 5.0, nan]          514  \n8                      [2.0, 4.0, 1.0, 5.0, nan, 3.0]          537  \n9   [55 - 64 Years, 35 - 44 Years, 18 - 34 Years, ...            0  \n10                          [1.0, 3.0, 2.0, 0.0, nan]           92  \n11  [< 12 Years, 12 Years, College Graduate, Some ...         1407  \n12        [White, Black, Other or Multiple, Hispanic]            0  \n13                          [0.0, 2.0, 1.0, 3.0, nan]          249  \n14                          [0.0, 3.0, 2.0, 1.0, nan]          249  \n15                               [0.0, 2.0, 1.0, nan]          116  \n16  [Below Poverty, <= $75,000, Above Poverty, > $...         4423  \n17    [Not in Labor Force, Employed, Unemployed, nan]         1463  \n18  [Non-MSA, MSA, Not Principle  City, MSA, Princ...            0  \n19                                    [0.0, 1.0, nan]           71  \n20                                    [0.0, 1.0, nan]          208  \n21                                    [0.0, 1.0, nan]           19  \n22                                    [0.0, 1.0, nan]           42  \n23                                    [0.0, 1.0, nan]           87  \n24                                    [1.0, 0.0, nan]           82  \n25                                    [1.0, 0.0, nan]          128  \n26                                    [0.0, nan, 1.0]         2160  \n27                                    [0.0, nan, 1.0]         2160  \n28                                    [0.0, 1.0, nan]          971  \n29                                    [0.0, 1.0, nan]          820  \n30                                    [0.0, 1.0, nan]          804  \n31                                    [1.0, nan, 0.0]        12274  \n32                                     [Female, Male]            0  \n33                        [Not Married, Married, nan]         1408  \n34                                   [Own, Rent, nan]         2042  ",
      "text/html": "<div>\n<style scoped>\n    .dataframe tbody tr th:only-of-type {\n        vertical-align: middle;\n    }\n\n    .dataframe tbody tr th {\n        vertical-align: top;\n    }\n\n    .dataframe thead th {\n        text-align: right;\n    }\n</style>\n<table border=\"1\" class=\"dataframe\">\n  <thead>\n    <tr style=\"text-align: right;\">\n      <th></th>\n      <th>Column</th>\n      <th>Dtype</th>\n      <th>N_Unique</th>\n      <th>Unique_vals</th>\n      <th>Null values</th>\n    </tr>\n  </thead>\n  <tbody>\n    <tr>\n      <th>0</th>\n      <td>employment_occupation</td>\n      <td>object</td>\n      <td>23</td>\n      <td>[nan, xgwztkwe, xtkaffoo, emcorrxb, vlluhbov, ...</td>\n      <td>13470</td>\n    </tr>\n    <tr>\n      <th>1</th>\n      <td>employment_industry</td>\n      <td>object</td>\n      <td>21</td>\n      <td>[nan, pxcmvdjn, rucpziij, wxleyezf, saaquncn, ...</td>\n      <td>13330</td>\n    </tr>\n    <tr>\n      <th>2</th>\n      <td>hhs_geo_region</td>\n      <td>object</td>\n      <td>10</td>\n      <td>[oxchjgsf, bhuqouqj, qufhixun, lrircsnp, atmpe...</td>\n      <td>0</td>\n    </tr>\n    <tr>\n      <th>3</th>\n      <td>opinion_h1n1_vacc_effective</td>\n      <td>float64</td>\n      <td>5</td>\n      <td>[3.0, 5.0, 4.0, 2.0, 1.0, nan]</td>\n      <td>391</td>\n    </tr>\n    <tr>\n      <th>4</th>\n      <td>opinion_h1n1_risk</td>\n      <td>float64</td>\n      <td>5</td>\n      <td>[1.0, 4.0, 3.0, 2.0, 5.0, nan]</td>\n      <td>388</td>\n    </tr>\n    <tr>\n      <th>5</th>\n      <td>opinion_h1n1_sick_from_vacc</td>\n      <td>float64</td>\n      <td>5</td>\n      <td>[2.0, 4.0, 1.0, 5.0, 3.0, nan]</td>\n      <td>395</td>\n    </tr>\n    <tr>\n      <th>6</th>\n      <td>opinion_seas_vacc_effective</td>\n      <td>float64</td>\n      <td>5</td>\n      <td>[2.0, 4.0, 5.0, 3.0, 1.0, nan]</td>\n      <td>462</td>\n    </tr>\n    <tr>\n      <th>7</th>\n      <td>opinion_seas_risk</td>\n      <td>float64</td>\n      <td>5</td>\n      <td>[1.0, 2.0, 4.0, 3.0, 5.0, nan]</td>\n      <td>514</td>\n    </tr>\n    <tr>\n      <th>8</th>\n      <td>opinion_seas_sick_from_vacc</td>\n      <td>float64</td>\n      <td>5</td>\n      <td>[2.0, 4.0, 1.0, 5.0, nan, 3.0]</td>\n      <td>537</td>\n    </tr>\n    <tr>\n      <th>9</th>\n      <td>age_group</td>\n      <td>object</td>\n      <td>5</td>\n      <td>[55 - 64 Years, 35 - 44 Years, 18 - 34 Years, ...</td>\n      <td>0</td>\n    </tr>\n    <tr>\n      <th>10</th>\n      <td>h1n1_concern</td>\n      <td>float64</td>\n      <td>4</td>\n      <td>[1.0, 3.0, 2.0, 0.0, nan]</td>\n      <td>92</td>\n    </tr>\n    <tr>\n      <th>11</th>\n      <td>education</td>\n      <td>object</td>\n      <td>4</td>\n      <td>[&lt; 12 Years, 12 Years, College Graduate, Some ...</td>\n      <td>1407</td>\n    </tr>\n    <tr>\n      <th>12</th>\n      <td>race</td>\n      <td>object</td>\n      <td>4</td>\n      <td>[White, Black, Other or Multiple, Hispanic]</td>\n      <td>0</td>\n    </tr>\n    <tr>\n      <th>13</th>\n      <td>household_adults</td>\n      <td>float64</td>\n      <td>4</td>\n      <td>[0.0, 2.0, 1.0, 3.0, nan]</td>\n      <td>249</td>\n    </tr>\n    <tr>\n      <th>14</th>\n      <td>household_children</td>\n      <td>float64</td>\n      <td>4</td>\n      <td>[0.0, 3.0, 2.0, 1.0, nan]</td>\n      <td>249</td>\n    </tr>\n    <tr>\n      <th>15</th>\n      <td>h1n1_knowledge</td>\n      <td>float64</td>\n      <td>3</td>\n      <td>[0.0, 2.0, 1.0, nan]</td>\n      <td>116</td>\n    </tr>\n    <tr>\n      <th>16</th>\n      <td>income_poverty</td>\n      <td>object</td>\n      <td>3</td>\n      <td>[Below Poverty, &lt;= $75,000, Above Poverty, &gt; $...</td>\n      <td>4423</td>\n    </tr>\n    <tr>\n      <th>17</th>\n      <td>employment_status</td>\n      <td>object</td>\n      <td>3</td>\n      <td>[Not in Labor Force, Employed, Unemployed, nan]</td>\n      <td>1463</td>\n    </tr>\n    <tr>\n      <th>18</th>\n      <td>census_msa</td>\n      <td>object</td>\n      <td>3</td>\n      <td>[Non-MSA, MSA, Not Principle  City, MSA, Princ...</td>\n      <td>0</td>\n    </tr>\n    <tr>\n      <th>19</th>\n      <td>behavioral_antiviral_meds</td>\n      <td>float64</td>\n      <td>2</td>\n      <td>[0.0, 1.0, nan]</td>\n      <td>71</td>\n    </tr>\n    <tr>\n      <th>20</th>\n      <td>behavioral_avoidance</td>\n      <td>float64</td>\n      <td>2</td>\n      <td>[0.0, 1.0, nan]</td>\n      <td>208</td>\n    </tr>\n    <tr>\n      <th>21</th>\n      <td>behavioral_face_mask</td>\n      <td>float64</td>\n      <td>2</td>\n      <td>[0.0, 1.0, nan]</td>\n      <td>19</td>\n    </tr>\n    <tr>\n      <th>22</th>\n      <td>behavioral_wash_hands</td>\n      <td>float64</td>\n      <td>2</td>\n      <td>[0.0, 1.0, nan]</td>\n      <td>42</td>\n    </tr>\n    <tr>\n      <th>23</th>\n      <td>behavioral_large_gatherings</td>\n      <td>float64</td>\n      <td>2</td>\n      <td>[0.0, 1.0, nan]</td>\n      <td>87</td>\n    </tr>\n    <tr>\n      <th>24</th>\n      <td>behavioral_outside_home</td>\n      <td>float64</td>\n      <td>2</td>\n      <td>[1.0, 0.0, nan]</td>\n      <td>82</td>\n    </tr>\n    <tr>\n      <th>25</th>\n      <td>behavioral_touch_face</td>\n      <td>float64</td>\n      <td>2</td>\n      <td>[1.0, 0.0, nan]</td>\n      <td>128</td>\n    </tr>\n    <tr>\n      <th>26</th>\n      <td>doctor_recc_h1n1</td>\n      <td>float64</td>\n      <td>2</td>\n      <td>[0.0, nan, 1.0]</td>\n      <td>2160</td>\n    </tr>\n    <tr>\n      <th>27</th>\n      <td>doctor_recc_seasonal</td>\n      <td>float64</td>\n      <td>2</td>\n      <td>[0.0, nan, 1.0]</td>\n      <td>2160</td>\n    </tr>\n    <tr>\n      <th>28</th>\n      <td>chronic_med_condition</td>\n      <td>float64</td>\n      <td>2</td>\n      <td>[0.0, 1.0, nan]</td>\n      <td>971</td>\n    </tr>\n    <tr>\n      <th>29</th>\n      <td>child_under_6_months</td>\n      <td>float64</td>\n      <td>2</td>\n      <td>[0.0, 1.0, nan]</td>\n      <td>820</td>\n    </tr>\n    <tr>\n      <th>30</th>\n      <td>health_worker</td>\n      <td>float64</td>\n      <td>2</td>\n      <td>[0.0, 1.0, nan]</td>\n      <td>804</td>\n    </tr>\n    <tr>\n      <th>31</th>\n      <td>health_insurance</td>\n      <td>float64</td>\n      <td>2</td>\n      <td>[1.0, nan, 0.0]</td>\n      <td>12274</td>\n    </tr>\n    <tr>\n      <th>32</th>\n      <td>sex</td>\n      <td>object</td>\n      <td>2</td>\n      <td>[Female, Male]</td>\n      <td>0</td>\n    </tr>\n    <tr>\n      <th>33</th>\n      <td>marital_status</td>\n      <td>object</td>\n      <td>2</td>\n      <td>[Not Married, Married, nan]</td>\n      <td>1408</td>\n    </tr>\n    <tr>\n      <th>34</th>\n      <td>rent_or_own</td>\n      <td>object</td>\n      <td>2</td>\n      <td>[Own, Rent, nan]</td>\n      <td>2042</td>\n    </tr>\n  </tbody>\n</table>\n</div>"
     },
     "execution_count": 22,
     "metadata": {},
     "output_type": "execute_result"
    }
   ],
   "source": [
    "# displaying object column data\n",
    "# both `train` and `test` have same columns\n",
    "\n",
    "df = train\n",
    "col_details = []\n",
    "for col in df.columns:\n",
    "    col_details.append((col, df[col].dtype, df[col].nunique(), list(df[col].unique()), df[col].isnull().sum()))\n",
    "col_details.sort(key=lambda x: 1 / x[-3])\n",
    "\n",
    "temp = pd.DataFrame(col_details, columns=[\"Column\", \"Dtype\", \"N_Unique\", \"Unique_vals\", \"Null values\"])\n",
    "temp"
   ],
   "metadata": {
    "collapsed": false,
    "pycharm": {
     "name": "#%%\n"
    }
   }
  },
  {
   "cell_type": "markdown",
   "source": [
    "### Identifying categorical columns and numerical columns"
   ],
   "metadata": {
    "collapsed": false
   }
  },
  {
   "cell_type": "code",
   "execution_count": 23,
   "outputs": [],
   "source": [
    "categorical_columns = np.where(train.dtypes == object)[0]\n",
    "numerical_columns =  np.where(train.dtypes != object)[0]\n",
    "\n",
    "assert (len(categorical_columns) + len(numerical_columns) == len(train.columns))"
   ],
   "metadata": {
    "collapsed": false,
    "pycharm": {
     "name": "#%%\n"
    }
   }
  },
  {
   "cell_type": "markdown",
   "source": [
    "### Filling missing values"
   ],
   "metadata": {
    "collapsed": false
   }
  },
  {
   "cell_type": "code",
   "execution_count": 24,
   "outputs": [],
   "source": [
    "# fill numeric values with its mean\n",
    "numeric_preprocessing_steps = Pipeline([\n",
    "    ('standard_scaler', StandardScaler()),\n",
    "    ('simple_imputer', SimpleImputer(strategy = 'mean'))\n",
    "])\n",
    "\n",
    "non_numeric_preprocessing_steps = Pipeline([\n",
    "     ('simple_imputer', SimpleImputer(strategy='constant', fill_value='missing')),\n",
    "    ('one_hot_encoder', OneHotEncoder())\n",
    "])\n",
    "\n",
    "\n",
    "preprocessor = ColumnTransformer(\n",
    "    transformers = [\n",
    "        ('numeric', numeric_preprocessing_steps, numerical_columns),\n",
    "        ('non_numeric', non_numeric_preprocessing_steps, categorical_columns)\n",
    "    ],\n",
    "    remainder = \"drop\"\n",
    ")"
   ],
   "metadata": {
    "collapsed": false,
    "pycharm": {
     "name": "#%%\n"
    }
   }
  },
  {
   "cell_type": "code",
   "execution_count": 25,
   "outputs": [],
   "source": [
    "# transform whole dataset\n",
    "train = pd.DataFrame(preprocessor.fit_transform(train), index=train.index)\n",
    "test = pd.DataFrame(preprocessor.transform(test), index=test.index)"
   ],
   "metadata": {
    "collapsed": false,
    "pycharm": {
     "name": "#%%\n"
    }
   }
  },
  {
   "cell_type": "markdown",
   "source": [
    "### Correlation analysis"
   ],
   "metadata": {
    "collapsed": false,
    "pycharm": {
     "name": "#%% md\n"
    }
   }
  },
  {
   "cell_type": "code",
   "execution_count": 26,
   "outputs": [
    {
     "data": {
      "text/plain": "[38, 44, 45, 47, 50, 52, 75, 91, 98]"
     },
     "execution_count": 26,
     "metadata": {},
     "output_type": "execute_result"
    }
   ],
   "source": [
    "# setting threshold\n",
    "threshold = 0.8\n",
    "\n",
    "corr = train.corr().abs()\n",
    "\n",
    "# select upper triangle of correlations\n",
    "upper = corr.where(np.triu(np.ones(corr.shape), k=1).astype(bool))\n",
    "\n",
    "removed_cols = [column for column in upper.columns if any(upper[column] > threshold)]\n",
    "\n",
    "removed_cols"
   ],
   "metadata": {
    "collapsed": false,
    "pycharm": {
     "name": "#%%\n"
    }
   }
  },
  {
   "cell_type": "markdown",
   "source": [
    "### Prune columns which have above threshold co-relation"
   ],
   "metadata": {
    "collapsed": false
   }
  },
  {
   "cell_type": "code",
   "execution_count": 27,
   "outputs": [],
   "source": [
    "train = train.drop(columns = removed_cols)\n",
    "test = test.drop(columns = removed_cols)"
   ],
   "metadata": {
    "collapsed": false,
    "pycharm": {
     "name": "#%%\n"
    }
   }
  },
  {
   "cell_type": "markdown",
   "source": [
    "### differentiate train and test data"
   ],
   "metadata": {
    "collapsed": false
   }
  },
  {
   "cell_type": "code",
   "execution_count": 28,
   "outputs": [
    {
     "data": {
      "text/plain": "                      0         1        2         3         4         5  \\\nrespondent_id                                                              \n53413          1.517658 -0.424715 -0.22661  0.614936 -0.272201  0.459586   \n53414          0.419111 -0.424715 -0.22661 -1.626185 -0.272201  0.459586   \n\n                      6         7         8         9        10        11  \\\nrespondent_id                                                               \n53413         -0.747788  1.401639 -1.448623 -0.531568 -0.701389 -0.628655   \n53414         -0.747788 -0.713450  0.690311  1.881227 -0.701389 -0.628655   \n\n                     12        13            14        15        16        17  \\\nrespondent_id                                                                   \n53413          3.332873 -0.354995  6.547647e-17 -1.836999  0.511417  1.205168   \n53414         -0.300041 -0.354995  3.697637e-01  1.140915 -1.044380 -0.262463   \n\n                     18        19        20        21        22   23   24  \\\nrespondent_id                                                               \n53413         -0.023916  0.202767 -0.088611  0.150650 -0.575963  0.0  0.0   \n53414          0.896433  0.924774 -0.088611 -1.176654 -0.575963  0.0  0.0   \n\n                25   26   27   28   29   30   31   32   33   34   35   36  \\\nrespondent_id                                                               \n53413          0.0  1.0  0.0  0.0  0.0  0.0  1.0  0.0  0.0  0.0  0.0  1.0   \n53414          1.0  0.0  0.0  0.0  0.0  1.0  0.0  0.0  0.0  0.0  0.0  1.0   \n\n                37   38   39   40   41   42   43   44   45   46   47   48  \\\nrespondent_id                                                               \n53413          1.0  0.0  1.0  0.0  0.0  0.0  1.0  0.0  0.0  1.0  0.0  0.0   \n53414          1.0  0.0  0.0  0.0  0.0  1.0  0.0  1.0  0.0  0.0  1.0  0.0   \n\n                49   50   51   52   53   54   55   56   57   58   59   60  \\\nrespondent_id                                                               \n53413          0.0  1.0  0.0  0.0  0.0  1.0  0.0  0.0  0.0  0.0  0.0  0.0   \n53414          1.0  0.0  0.0  0.0  0.0  0.0  0.0  0.0  0.0  1.0  0.0  0.0   \n\n                61   62   63   64   65   66   67   68   69   70   71   72  \\\nrespondent_id                                                               \n53413          0.0  0.0  1.0  0.0  0.0  0.0  0.0  0.0  0.0  0.0  0.0  0.0   \n53414          0.0  0.0  0.0  1.0  0.0  0.0  0.0  0.0  0.0  0.0  0.0  0.0   \n\n                73   74   75   76   77   78   79   80   81   82   83   84  \\\nrespondent_id                                                               \n53413          0.0  0.0  1.0  0.0  0.0  0.0  0.0  0.0  0.0  0.0  0.0  0.0   \n53414          0.0  0.0  1.0  0.0  0.0  0.0  0.0  0.0  0.0  0.0  0.0  0.0   \n\n                85   86   87   88   89   90   91   92   93   94   95   96  \\\nrespondent_id                                                               \n53413          0.0  0.0  0.0  0.0  0.0  0.0  0.0  0.0  0.0  0.0  0.0  0.0   \n53414          0.0  0.0  0.0  0.0  0.0  0.0  0.0  0.0  0.0  0.0  0.0  0.0   \n\n                97   98   99  100  101  102  103  104  105  106  107  108  \\\nrespondent_id                                                               \n53413          0.0  1.0  0.0  0.0  0.0  0.0  0.0  0.0  0.0  0.0  0.0  0.0   \n53414          0.0  0.0  0.0  0.0  0.0  0.0  0.0  0.0  0.0  0.0  0.0  0.0   \n\n               109  110  111  type  \nrespondent_id                       \n53413          0.0  0.0  0.0  test  \n53414          0.0  1.0  0.0  test  ",
      "text/html": "<div>\n<style scoped>\n    .dataframe tbody tr th:only-of-type {\n        vertical-align: middle;\n    }\n\n    .dataframe tbody tr th {\n        vertical-align: top;\n    }\n\n    .dataframe thead th {\n        text-align: right;\n    }\n</style>\n<table border=\"1\" class=\"dataframe\">\n  <thead>\n    <tr style=\"text-align: right;\">\n      <th></th>\n      <th>0</th>\n      <th>1</th>\n      <th>2</th>\n      <th>3</th>\n      <th>4</th>\n      <th>5</th>\n      <th>6</th>\n      <th>7</th>\n      <th>8</th>\n      <th>9</th>\n      <th>10</th>\n      <th>11</th>\n      <th>12</th>\n      <th>13</th>\n      <th>14</th>\n      <th>15</th>\n      <th>16</th>\n      <th>17</th>\n      <th>18</th>\n      <th>19</th>\n      <th>20</th>\n      <th>21</th>\n      <th>22</th>\n      <th>23</th>\n      <th>24</th>\n      <th>25</th>\n      <th>26</th>\n      <th>27</th>\n      <th>28</th>\n      <th>29</th>\n      <th>30</th>\n      <th>31</th>\n      <th>32</th>\n      <th>33</th>\n      <th>34</th>\n      <th>35</th>\n      <th>36</th>\n      <th>37</th>\n      <th>38</th>\n      <th>39</th>\n      <th>40</th>\n      <th>41</th>\n      <th>42</th>\n      <th>43</th>\n      <th>44</th>\n      <th>45</th>\n      <th>46</th>\n      <th>47</th>\n      <th>48</th>\n      <th>49</th>\n      <th>50</th>\n      <th>51</th>\n      <th>52</th>\n      <th>53</th>\n      <th>54</th>\n      <th>55</th>\n      <th>56</th>\n      <th>57</th>\n      <th>58</th>\n      <th>59</th>\n      <th>60</th>\n      <th>61</th>\n      <th>62</th>\n      <th>63</th>\n      <th>64</th>\n      <th>65</th>\n      <th>66</th>\n      <th>67</th>\n      <th>68</th>\n      <th>69</th>\n      <th>70</th>\n      <th>71</th>\n      <th>72</th>\n      <th>73</th>\n      <th>74</th>\n      <th>75</th>\n      <th>76</th>\n      <th>77</th>\n      <th>78</th>\n      <th>79</th>\n      <th>80</th>\n      <th>81</th>\n      <th>82</th>\n      <th>83</th>\n      <th>84</th>\n      <th>85</th>\n      <th>86</th>\n      <th>87</th>\n      <th>88</th>\n      <th>89</th>\n      <th>90</th>\n      <th>91</th>\n      <th>92</th>\n      <th>93</th>\n      <th>94</th>\n      <th>95</th>\n      <th>96</th>\n      <th>97</th>\n      <th>98</th>\n      <th>99</th>\n      <th>100</th>\n      <th>101</th>\n      <th>102</th>\n      <th>103</th>\n      <th>104</th>\n      <th>105</th>\n      <th>106</th>\n      <th>107</th>\n      <th>108</th>\n      <th>109</th>\n      <th>110</th>\n      <th>111</th>\n      <th>type</th>\n    </tr>\n    <tr>\n      <th>respondent_id</th>\n      <th></th>\n      <th></th>\n      <th></th>\n      <th></th>\n      <th></th>\n      <th></th>\n      <th></th>\n      <th></th>\n      <th></th>\n      <th></th>\n      <th></th>\n      <th></th>\n      <th></th>\n      <th></th>\n      <th></th>\n      <th></th>\n      <th></th>\n      <th></th>\n      <th></th>\n      <th></th>\n      <th></th>\n      <th></th>\n      <th></th>\n      <th></th>\n      <th></th>\n      <th></th>\n      <th></th>\n      <th></th>\n      <th></th>\n      <th></th>\n      <th></th>\n      <th></th>\n      <th></th>\n      <th></th>\n      <th></th>\n      <th></th>\n      <th></th>\n      <th></th>\n      <th></th>\n      <th></th>\n      <th></th>\n      <th></th>\n      <th></th>\n      <th></th>\n      <th></th>\n      <th></th>\n      <th></th>\n      <th></th>\n      <th></th>\n      <th></th>\n      <th></th>\n      <th></th>\n      <th></th>\n      <th></th>\n      <th></th>\n      <th></th>\n      <th></th>\n      <th></th>\n      <th></th>\n      <th></th>\n      <th></th>\n      <th></th>\n      <th></th>\n      <th></th>\n      <th></th>\n      <th></th>\n      <th></th>\n      <th></th>\n      <th></th>\n      <th></th>\n      <th></th>\n      <th></th>\n      <th></th>\n      <th></th>\n      <th></th>\n      <th></th>\n      <th></th>\n      <th></th>\n      <th></th>\n      <th></th>\n      <th></th>\n      <th></th>\n      <th></th>\n      <th></th>\n      <th></th>\n      <th></th>\n      <th></th>\n      <th></th>\n      <th></th>\n      <th></th>\n      <th></th>\n      <th></th>\n      <th></th>\n      <th></th>\n      <th></th>\n      <th></th>\n      <th></th>\n      <th></th>\n      <th></th>\n      <th></th>\n      <th></th>\n      <th></th>\n      <th></th>\n      <th></th>\n      <th></th>\n      <th></th>\n      <th></th>\n      <th></th>\n      <th></th>\n      <th></th>\n      <th></th>\n      <th></th>\n      <th></th>\n    </tr>\n  </thead>\n  <tbody>\n    <tr>\n      <th>53413</th>\n      <td>1.517658</td>\n      <td>-0.424715</td>\n      <td>-0.22661</td>\n      <td>0.614936</td>\n      <td>-0.272201</td>\n      <td>0.459586</td>\n      <td>-0.747788</td>\n      <td>1.401639</td>\n      <td>-1.448623</td>\n      <td>-0.531568</td>\n      <td>-0.701389</td>\n      <td>-0.628655</td>\n      <td>3.332873</td>\n      <td>-0.354995</td>\n      <td>6.547647e-17</td>\n      <td>-1.836999</td>\n      <td>0.511417</td>\n      <td>1.205168</td>\n      <td>-0.023916</td>\n      <td>0.202767</td>\n      <td>-0.088611</td>\n      <td>0.150650</td>\n      <td>-0.575963</td>\n      <td>0.0</td>\n      <td>0.0</td>\n      <td>0.0</td>\n      <td>1.0</td>\n      <td>0.0</td>\n      <td>0.0</td>\n      <td>0.0</td>\n      <td>0.0</td>\n      <td>1.0</td>\n      <td>0.0</td>\n      <td>0.0</td>\n      <td>0.0</td>\n      <td>0.0</td>\n      <td>1.0</td>\n      <td>1.0</td>\n      <td>0.0</td>\n      <td>1.0</td>\n      <td>0.0</td>\n      <td>0.0</td>\n      <td>0.0</td>\n      <td>1.0</td>\n      <td>0.0</td>\n      <td>0.0</td>\n      <td>1.0</td>\n      <td>0.0</td>\n      <td>0.0</td>\n      <td>0.0</td>\n      <td>1.0</td>\n      <td>0.0</td>\n      <td>0.0</td>\n      <td>0.0</td>\n      <td>1.0</td>\n      <td>0.0</td>\n      <td>0.0</td>\n      <td>0.0</td>\n      <td>0.0</td>\n      <td>0.0</td>\n      <td>0.0</td>\n      <td>0.0</td>\n      <td>0.0</td>\n      <td>1.0</td>\n      <td>0.0</td>\n      <td>0.0</td>\n      <td>0.0</td>\n      <td>0.0</td>\n      <td>0.0</td>\n      <td>0.0</td>\n      <td>0.0</td>\n      <td>0.0</td>\n      <td>0.0</td>\n      <td>0.0</td>\n      <td>0.0</td>\n      <td>1.0</td>\n      <td>0.0</td>\n      <td>0.0</td>\n      <td>0.0</td>\n      <td>0.0</td>\n      <td>0.0</td>\n      <td>0.0</td>\n      <td>0.0</td>\n      <td>0.0</td>\n      <td>0.0</td>\n      <td>0.0</td>\n      <td>0.0</td>\n      <td>0.0</td>\n      <td>0.0</td>\n      <td>0.0</td>\n      <td>0.0</td>\n      <td>0.0</td>\n      <td>0.0</td>\n      <td>0.0</td>\n      <td>0.0</td>\n      <td>0.0</td>\n      <td>0.0</td>\n      <td>0.0</td>\n      <td>1.0</td>\n      <td>0.0</td>\n      <td>0.0</td>\n      <td>0.0</td>\n      <td>0.0</td>\n      <td>0.0</td>\n      <td>0.0</td>\n      <td>0.0</td>\n      <td>0.0</td>\n      <td>0.0</td>\n      <td>0.0</td>\n      <td>0.0</td>\n      <td>0.0</td>\n      <td>0.0</td>\n      <td>test</td>\n    </tr>\n    <tr>\n      <th>53414</th>\n      <td>0.419111</td>\n      <td>-0.424715</td>\n      <td>-0.22661</td>\n      <td>-1.626185</td>\n      <td>-0.272201</td>\n      <td>0.459586</td>\n      <td>-0.747788</td>\n      <td>-0.713450</td>\n      <td>0.690311</td>\n      <td>1.881227</td>\n      <td>-0.701389</td>\n      <td>-0.628655</td>\n      <td>-0.300041</td>\n      <td>-0.354995</td>\n      <td>3.697637e-01</td>\n      <td>1.140915</td>\n      <td>-1.044380</td>\n      <td>-0.262463</td>\n      <td>0.896433</td>\n      <td>0.924774</td>\n      <td>-0.088611</td>\n      <td>-1.176654</td>\n      <td>-0.575963</td>\n      <td>0.0</td>\n      <td>0.0</td>\n      <td>1.0</td>\n      <td>0.0</td>\n      <td>0.0</td>\n      <td>0.0</td>\n      <td>0.0</td>\n      <td>1.0</td>\n      <td>0.0</td>\n      <td>0.0</td>\n      <td>0.0</td>\n      <td>0.0</td>\n      <td>0.0</td>\n      <td>1.0</td>\n      <td>1.0</td>\n      <td>0.0</td>\n      <td>0.0</td>\n      <td>0.0</td>\n      <td>0.0</td>\n      <td>1.0</td>\n      <td>0.0</td>\n      <td>1.0</td>\n      <td>0.0</td>\n      <td>0.0</td>\n      <td>1.0</td>\n      <td>0.0</td>\n      <td>1.0</td>\n      <td>0.0</td>\n      <td>0.0</td>\n      <td>0.0</td>\n      <td>0.0</td>\n      <td>0.0</td>\n      <td>0.0</td>\n      <td>0.0</td>\n      <td>0.0</td>\n      <td>1.0</td>\n      <td>0.0</td>\n      <td>0.0</td>\n      <td>0.0</td>\n      <td>0.0</td>\n      <td>0.0</td>\n      <td>1.0</td>\n      <td>0.0</td>\n      <td>0.0</td>\n      <td>0.0</td>\n      <td>0.0</td>\n      <td>0.0</td>\n      <td>0.0</td>\n      <td>0.0</td>\n      <td>0.0</td>\n      <td>0.0</td>\n      <td>0.0</td>\n      <td>1.0</td>\n      <td>0.0</td>\n      <td>0.0</td>\n      <td>0.0</td>\n      <td>0.0</td>\n      <td>0.0</td>\n      <td>0.0</td>\n      <td>0.0</td>\n      <td>0.0</td>\n      <td>0.0</td>\n      <td>0.0</td>\n      <td>0.0</td>\n      <td>0.0</td>\n      <td>0.0</td>\n      <td>0.0</td>\n      <td>0.0</td>\n      <td>0.0</td>\n      <td>0.0</td>\n      <td>0.0</td>\n      <td>0.0</td>\n      <td>0.0</td>\n      <td>0.0</td>\n      <td>0.0</td>\n      <td>0.0</td>\n      <td>0.0</td>\n      <td>0.0</td>\n      <td>0.0</td>\n      <td>0.0</td>\n      <td>0.0</td>\n      <td>0.0</td>\n      <td>0.0</td>\n      <td>0.0</td>\n      <td>0.0</td>\n      <td>0.0</td>\n      <td>0.0</td>\n      <td>1.0</td>\n      <td>0.0</td>\n      <td>test</td>\n    </tr>\n  </tbody>\n</table>\n</div>"
     },
     "execution_count": 28,
     "metadata": {},
     "output_type": "execute_result"
    }
   ],
   "source": [
    "train[\"type\"] = \"train\"\n",
    "test[\"type\"] = \"test\"\n",
    "\n",
    "# create a data column by merging both train and label set\n",
    "data = pd.concat([train, test], ignore_index=False)\n",
    "\n",
    "data.tail(2)"
   ],
   "metadata": {
    "collapsed": false,
    "pycharm": {
     "name": "#%%\n"
    }
   }
  },
  {
   "cell_type": "code",
   "execution_count": 29,
   "outputs": [
    {
     "name": "stdout",
     "output_type": "stream",
     "text": [
      "success\n"
     ]
    }
   ],
   "source": [
    "# now that data is ready to train, publish it as a csv file\n",
    "data.to_csv(\"../files/for_train.csv\", index=True)\n",
    "print(\"success\")\n"
   ],
   "metadata": {
    "collapsed": false,
    "pycharm": {
     "name": "#%%\n"
    }
   }
  }
 ],
 "metadata": {
  "kernelspec": {
   "display_name": "Python 3",
   "language": "python",
   "name": "python3"
  },
  "language_info": {
   "codemirror_mode": {
    "name": "ipython",
    "version": 2
   },
   "file_extension": ".py",
   "mimetype": "text/x-python",
   "name": "python",
   "nbconvert_exporter": "python",
   "pygments_lexer": "ipython2",
   "version": "2.7.6"
  }
 },
 "nbformat": 4,
 "nbformat_minor": 0
}