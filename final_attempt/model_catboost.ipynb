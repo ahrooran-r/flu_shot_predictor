{
 "cells": [
  {
   "cell_type": "code",
   "execution_count": 34,
   "metadata": {
    "scrolled": true
   },
   "outputs": [
    {
     "name": "stdout",
     "output_type": "stream",
     "text": [
      "import success\n"
     ]
    }
   ],
   "source": [
    "import copy\n",
    "\n",
    "import pandas as pd\n",
    "pd.set_option('display.max_columns', None)\n",
    "pd.set_option(\"max_rows\", 200)\n",
    "\n",
    "from sklearn.experimental import enable_halving_search_cv\n",
    "from sklearn.experimental import enable_hist_gradient_boosting\n",
    "\n",
    "from sklearn.model_selection import train_test_split\n",
    "from sklearn.model_selection import GridSearchCV, RandomizedSearchCV\n",
    "from sklearn.model_selection import HalvingGridSearchCV, HalvingRandomSearchCV\n",
    "\n",
    "from catboost import CatBoostClassifier\n",
    "from sklearn.metrics import make_scorer, roc_auc_score\n",
    "\n",
    "print(\"import success\")"
   ]
  },
  {
   "cell_type": "code",
   "execution_count": 35,
   "metadata": {
    "pycharm": {
     "name": "#%%\n"
    },
    "scrolled": true
   },
   "outputs": [
    {
     "name": "stdout",
     "output_type": "stream",
     "text": [
      "data => rows: 53415, cols: 113\n",
      "labels => rows: 26707, cols: 2\n"
     ]
    }
   ],
   "source": [
    "# import pre-processed datasets\n",
    "\n",
    "# train data\n",
    "data = pd.read_csv(r\"../files/for_train.csv\", index_col=\"respondent_id\")\n",
    "\n",
    "# target\n",
    "labels = pd.read_csv(r\"../files/training_set_labels.csv\", index_col=\"respondent_id\")\n",
    "label_h1n1 = labels[[\"h1n1_vaccine\"]]\n",
    "label_seasonal = labels[[\"seasonal_vaccine\"]]\n",
    "\n",
    "# check whether rows are equal\n",
    "print(\"data => rows: %s, cols: %s\" % (data.shape[0], data.shape[1]))\n",
    "print(\"labels => rows: %s, cols: %s\" % (labels.shape[0], labels.shape[1]))"
   ]
  },
  {
   "cell_type": "code",
   "execution_count": 36,
   "metadata": {
    "pycharm": {
     "name": "#%%\n"
    },
    "scrolled": true
   },
   "outputs": [],
   "source": [
    "target = label_h1n1.values.ravel()\n",
    "\n",
    "train = data[data.type.eq(\"train\")].drop(\"type\", axis=1)\n",
    "test = data[data.type.eq(\"test\")].drop(\"type\", axis=1)\n",
    "\n",
    "X_train, X_test, y_train, y_test = train_test_split(\n",
    "    train,\n",
    "    target,\n",
    "    test_size = 0.2,\n",
    "    shuffle = True,\n",
    "    stratify = target,\n",
    "    random_state = 42\n",
    ")\n",
    "\n",
    "# size = 1000\n",
    "size = len(y_train)\n",
    "X_train_pruned = X_train.head(size).copy()\n",
    "y_train_pruned = copy.deepcopy(y_train[:size])"
   ]
  },
  {
   "cell_type": "code",
   "execution_count": 37,
   "metadata": {
    "pycharm": {
     "name": "#%%\n"
    },
    "scrolled": true
   },
   "outputs": [
    {
     "name": "stdout",
     "output_type": "stream",
     "text": [
      "Ready!\n"
     ]
    }
   ],
   "source": [
    "catboost = CatBoostClassifier(allow_writing_files=False)\n",
    "\n",
    "grid = {\n",
    "    'n_estimators': [n for n in range(1000, 3000) if n % 400 == 0],\n",
    "    'max_depth': [2, 6, 8, 12],\n",
    "}\n",
    "\n",
    "hrscv = HalvingGridSearchCV(\n",
    "    estimator=catboost,\n",
    "    param_grid=grid,\n",
    "    scoring=make_scorer(roc_auc_score),\n",
    "    cv=3,\n",
    "    error_score='raise',\n",
    "    refit=False,\n",
    "    verbose=10,\n",
    "    random_state=42,\n",
    "    n_jobs=4\n",
    ")\n",
    "\n",
    "print(\"Ready!\")"
   ]
  },
  {
   "cell_type": "code",
   "execution_count": 38,
   "metadata": {
    "pycharm": {
     "name": "#%%\n"
    },
    "scrolled": true
   },
   "outputs": [],
   "source": [
    "# hrscv.fit(X_train_pruned, y_train_pruned)"
   ]
  },
  {
   "cell_type": "code",
   "execution_count": 39,
   "metadata": {
    "pycharm": {
     "name": "#%%\n"
    },
    "scrolled": true
   },
   "outputs": [],
   "source": [
    "# print(hrscv.best_params_)\n",
    "# print(hrscv.best_score_)\n",
    "# print(hrscv.best_estimator_)"
   ]
  },
  {
   "cell_type": "markdown",
   "metadata": {},
   "source": [
    "{'max_depth': 6, 'n_estimators': 1600}"
   ]
  },
  {
   "cell_type": "code",
   "execution_count": 40,
   "metadata": {
    "pycharm": {
     "name": "#%%\n"
    }
   },
   "outputs": [
    {
     "name": "stdout",
     "output_type": "stream",
     "text": [
      "Fit complete for h1n1\n"
     ]
    }
   ],
   "source": [
    "# fit the classifier\n",
    "catboost = CatBoostClassifier(\n",
    "    max_depth=6,\n",
    "    n_estimators=1600,\n",
    "    verbose=0,\n",
    "    allow_writing_files=False\n",
    ")\n",
    "catboost.fit(X_train, y_train)\n",
    "print(\"Fit complete for h1n1\")"
   ]
  },
  {
   "cell_type": "code",
   "execution_count": 41,
   "metadata": {
    "pycharm": {
     "name": "#%%\n"
    }
   },
   "outputs": [
    {
     "name": "stdout",
     "output_type": "stream",
     "text": [
      "0.8637800016544693\n"
     ]
    }
   ],
   "source": [
    "predicted_vals = catboost.predict_proba(X_test)[:, 1]\n",
    "\n",
    "score = roc_auc_score(y_test, predicted_vals)\n",
    "\n",
    "print(score)"
   ]
  },
  {
   "cell_type": "code",
   "execution_count": 42,
   "metadata": {
    "pycharm": {
     "name": "#%%\n"
    }
   },
   "outputs": [
    {
     "name": "stdout",
     "output_type": "stream",
     "text": [
      "(26708, 2)\n"
     ]
    }
   ],
   "source": [
    "build = pd.DataFrame(test.index)\n",
    "\n",
    "build[\"h1n1_vaccine\"] = catboost.predict_proba(test)[:, 1]\n",
    "\n",
    "print(build.shape)\n",
    "\n",
    "assert (build.shape[0] == len(test.index) and build.shape[1] == 2)"
   ]
  },
  {
   "cell_type": "code",
   "execution_count": 43,
   "outputs": [],
   "source": [
    "target = label_seasonal.values.ravel()\n",
    "\n",
    "X_train, X_test, y_train, y_test = train_test_split(\n",
    "    train,\n",
    "    target,\n",
    "    test_size = 0.2,\n",
    "    shuffle = True,\n",
    "    stratify = target,\n",
    "    random_state = 42\n",
    ")"
   ],
   "metadata": {
    "collapsed": false,
    "pycharm": {
     "name": "#%%\n"
    }
   }
  },
  {
   "cell_type": "code",
   "execution_count": 44,
   "outputs": [
    {
     "name": "stdout",
     "output_type": "stream",
     "text": [
      "Fit complete for seasonal\n"
     ]
    }
   ],
   "source": [
    "# fit the classifier\n",
    "catboost = CatBoostClassifier(\n",
    "    max_depth=6,\n",
    "    n_estimators=1600,\n",
    "    verbose=0,\n",
    "    allow_writing_files=False\n",
    ")\n",
    "catboost.fit(X_train, y_train)\n",
    "print(\"Fit complete for seasonal\")"
   ],
   "metadata": {
    "collapsed": false,
    "pycharm": {
     "name": "#%%\n"
    }
   }
  },
  {
   "cell_type": "code",
   "execution_count": 45,
   "outputs": [
    {
     "name": "stdout",
     "output_type": "stream",
     "text": [
      "0.866970875522947\n"
     ]
    }
   ],
   "source": [
    "predicted_vals = catboost.predict_proba(X_test)[:, 1]\n",
    "score = roc_auc_score(y_test,  predicted_vals)\n",
    "\n",
    "print(score)"
   ],
   "metadata": {
    "collapsed": false,
    "pycharm": {
     "name": "#%%\n"
    }
   }
  },
  {
   "cell_type": "code",
   "execution_count": 46,
   "outputs": [
    {
     "name": "stdout",
     "output_type": "stream",
     "text": [
      "(26708, 3)\n"
     ]
    },
    {
     "data": {
      "text/plain": "   respondent_id  h1n1_vaccine  seasonal_vaccine\n0          26707      0.142957          0.365155\n1          26708      0.026167          0.019542",
      "text/html": "<div>\n<style scoped>\n    .dataframe tbody tr th:only-of-type {\n        vertical-align: middle;\n    }\n\n    .dataframe tbody tr th {\n        vertical-align: top;\n    }\n\n    .dataframe thead th {\n        text-align: right;\n    }\n</style>\n<table border=\"1\" class=\"dataframe\">\n  <thead>\n    <tr style=\"text-align: right;\">\n      <th></th>\n      <th>respondent_id</th>\n      <th>h1n1_vaccine</th>\n      <th>seasonal_vaccine</th>\n    </tr>\n  </thead>\n  <tbody>\n    <tr>\n      <th>0</th>\n      <td>26707</td>\n      <td>0.142957</td>\n      <td>0.365155</td>\n    </tr>\n    <tr>\n      <th>1</th>\n      <td>26708</td>\n      <td>0.026167</td>\n      <td>0.019542</td>\n    </tr>\n  </tbody>\n</table>\n</div>"
     },
     "execution_count": 46,
     "metadata": {},
     "output_type": "execute_result"
    }
   ],
   "source": [
    "build[\"seasonal_vaccine\"] = catboost.predict_proba(test)[:, 1]\n",
    "\n",
    "print(build.shape)\n",
    "\n",
    "assert (build.shape[0] == len(test.index) and build.shape[1] == 3)\n",
    "\n",
    "build.head(2)"
   ],
   "metadata": {
    "collapsed": false,
    "pycharm": {
     "name": "#%%\n"
    }
   }
  },
  {
   "cell_type": "code",
   "execution_count": 47,
   "metadata": {
    "pycharm": {
     "name": "#%%\n"
    }
   },
   "outputs": [
    {
     "name": "stdout",
     "output_type": "stream",
     "text": [
      "success\n"
     ]
    }
   ],
   "source": [
    "build.to_csv(\"../files/output.csv\", index=False)\n",
    "print(\"success\")\n"
   ]
  }
 ],
 "metadata": {
  "kernelspec": {
   "display_name": "Python 3 (ipykernel)",
   "language": "python",
   "name": "python3"
  },
  "language_info": {
   "codemirror_mode": {
    "name": "ipython",
    "version": 3
   },
   "file_extension": ".py",
   "mimetype": "text/x-python",
   "name": "python",
   "nbconvert_exporter": "python",
   "pygments_lexer": "ipython3",
   "version": "3.7.11"
  }
 },
 "nbformat": 4,
 "nbformat_minor": 1
}