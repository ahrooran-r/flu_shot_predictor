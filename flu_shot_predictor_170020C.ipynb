{
 "cells": [
  {
   "cell_type": "code",
   "execution_count": 275,
   "metadata": {
    "collapsed": true
   },
   "outputs": [],
   "source": [
    "import numpy as np\n",
    "import pandas as pd\n",
    "from sklearn.neighbors import KNeighborsClassifier\n",
    "from sklearn.model_selection import train_test_split\n",
    "from sklearn.model_selection import GridSearchCV"
   ]
  },
  {
   "cell_type": "markdown",
   "source": [
    "### import all the files"
   ],
   "metadata": {
    "collapsed": false
   }
  },
  {
   "cell_type": "code",
   "execution_count": 276,
   "outputs": [
    {
     "name": "stdout",
     "output_type": "stream",
     "text": [
      "(26707, 36)\n",
      "(26707, 3)\n",
      "(26708, 36)\n"
     ]
    }
   ],
   "source": [
    "submission_format = pd.read_csv(r\"submission_format.csv\")\n",
    "original_test = pd.read_csv(r\"test_set_features.csv\")\n",
    "\n",
    "#data\n",
    "original_train = pd.read_csv(r\"training_set_features.csv\")\n",
    "\n",
    "#target\n",
    "training_labels = pd.read_csv(r\"training_set_labels.csv\")\n",
    "\n",
    "# check whether rows are equal\n",
    "print(original_train.shape)\n",
    "print(training_labels.shape)\n",
    "\n",
    "print(original_test.shape)"
   ],
   "metadata": {
    "collapsed": false,
    "pycharm": {
     "name": "#%%\n"
    }
   }
  },
  {
   "cell_type": "markdown",
   "source": [
    "### Sanitize the dataset"
   ],
   "metadata": {
    "collapsed": false,
    "pycharm": {
     "name": "#%% md\n"
    }
   }
  },
  {
   "cell_type": "code",
   "execution_count": 277,
   "outputs": [
    {
     "data": {
      "text/plain": "0"
     },
     "execution_count": 277,
     "metadata": {},
     "output_type": "execute_result"
    }
   ],
   "source": [
    "# now `data` can be sanitized\n",
    "\n",
    "# check for duplicates\n",
    "np.sum(original_train.duplicated())\n",
    "np.sum(original_test.duplicated())"
   ],
   "metadata": {
    "collapsed": false,
    "pycharm": {
     "name": "#%%\n"
    }
   }
  },
  {
   "cell_type": "code",
   "execution_count": 278,
   "outputs": [
    {
     "data": {
      "text/plain": "               h1n1_concern  h1n1_knowledge  behavioral_antiviral_meds  \\\nrespondent_id                                                            \n0                       1.0             0.0                        0.0   \n1                       3.0             2.0                        0.0   \n2                       1.0             1.0                        0.0   \n3                       1.0             1.0                        0.0   \n4                       2.0             1.0                        0.0   \n\n               behavioral_avoidance  behavioral_face_mask  \\\nrespondent_id                                               \n0                               0.0                   0.0   \n1                               1.0                   0.0   \n2                               1.0                   0.0   \n3                               1.0                   0.0   \n4                               1.0                   0.0   \n\n               behavioral_wash_hands  behavioral_large_gatherings  \\\nrespondent_id                                                       \n0                                0.0                          0.0   \n1                                1.0                          0.0   \n2                                0.0                          0.0   \n3                                1.0                          1.0   \n4                                1.0                          1.0   \n\n               behavioral_outside_home  behavioral_touch_face  \\\nrespondent_id                                                   \n0                                  1.0                    1.0   \n1                                  1.0                    1.0   \n2                                  0.0                    0.0   \n3                                  0.0                    0.0   \n4                                  0.0                    1.0   \n\n               doctor_recc_h1n1  ...             income_poverty  \\\nrespondent_id                    ...                              \n0                           0.0  ...              Below Poverty   \n1                           0.0  ...              Below Poverty   \n2                           NaN  ...  <= $75,000, Above Poverty   \n3                           0.0  ...              Below Poverty   \n4                           0.0  ...  <= $75,000, Above Poverty   \n\n               marital_status  rent_or_own   employment_status  \\\nrespondent_id                                                    \n0                 Not Married          Own  Not in Labor Force   \n1                 Not Married         Rent            Employed   \n2                 Not Married          Own            Employed   \n3                 Not Married         Rent  Not in Labor Force   \n4                     Married          Own            Employed   \n\n               hhs_geo_region                census_msa  household_adults  \\\nrespondent_id                                                               \n0                    oxchjgsf                   Non-MSA               0.0   \n1                    bhuqouqj  MSA, Not Principle  City               0.0   \n2                    qufhixun  MSA, Not Principle  City               2.0   \n3                    lrircsnp       MSA, Principle City               0.0   \n4                    qufhixun  MSA, Not Principle  City               1.0   \n\n               household_children  employment_industry  employment_occupation  \nrespondent_id                                                                  \n0                             0.0                  NaN                    NaN  \n1                             0.0             pxcmvdjn               xgwztkwe  \n2                             0.0             rucpziij               xtkaffoo  \n3                             0.0                  NaN                    NaN  \n4                             0.0             wxleyezf               emcorrxb  \n\n[5 rows x 35 columns]",
      "text/html": "<div>\n<style scoped>\n    .dataframe tbody tr th:only-of-type {\n        vertical-align: middle;\n    }\n\n    .dataframe tbody tr th {\n        vertical-align: top;\n    }\n\n    .dataframe thead th {\n        text-align: right;\n    }\n</style>\n<table border=\"1\" class=\"dataframe\">\n  <thead>\n    <tr style=\"text-align: right;\">\n      <th></th>\n      <th>h1n1_concern</th>\n      <th>h1n1_knowledge</th>\n      <th>behavioral_antiviral_meds</th>\n      <th>behavioral_avoidance</th>\n      <th>behavioral_face_mask</th>\n      <th>behavioral_wash_hands</th>\n      <th>behavioral_large_gatherings</th>\n      <th>behavioral_outside_home</th>\n      <th>behavioral_touch_face</th>\n      <th>doctor_recc_h1n1</th>\n      <th>...</th>\n      <th>income_poverty</th>\n      <th>marital_status</th>\n      <th>rent_or_own</th>\n      <th>employment_status</th>\n      <th>hhs_geo_region</th>\n      <th>census_msa</th>\n      <th>household_adults</th>\n      <th>household_children</th>\n      <th>employment_industry</th>\n      <th>employment_occupation</th>\n    </tr>\n    <tr>\n      <th>respondent_id</th>\n      <th></th>\n      <th></th>\n      <th></th>\n      <th></th>\n      <th></th>\n      <th></th>\n      <th></th>\n      <th></th>\n      <th></th>\n      <th></th>\n      <th></th>\n      <th></th>\n      <th></th>\n      <th></th>\n      <th></th>\n      <th></th>\n      <th></th>\n      <th></th>\n      <th></th>\n      <th></th>\n      <th></th>\n    </tr>\n  </thead>\n  <tbody>\n    <tr>\n      <th>0</th>\n      <td>1.0</td>\n      <td>0.0</td>\n      <td>0.0</td>\n      <td>0.0</td>\n      <td>0.0</td>\n      <td>0.0</td>\n      <td>0.0</td>\n      <td>1.0</td>\n      <td>1.0</td>\n      <td>0.0</td>\n      <td>...</td>\n      <td>Below Poverty</td>\n      <td>Not Married</td>\n      <td>Own</td>\n      <td>Not in Labor Force</td>\n      <td>oxchjgsf</td>\n      <td>Non-MSA</td>\n      <td>0.0</td>\n      <td>0.0</td>\n      <td>NaN</td>\n      <td>NaN</td>\n    </tr>\n    <tr>\n      <th>1</th>\n      <td>3.0</td>\n      <td>2.0</td>\n      <td>0.0</td>\n      <td>1.0</td>\n      <td>0.0</td>\n      <td>1.0</td>\n      <td>0.0</td>\n      <td>1.0</td>\n      <td>1.0</td>\n      <td>0.0</td>\n      <td>...</td>\n      <td>Below Poverty</td>\n      <td>Not Married</td>\n      <td>Rent</td>\n      <td>Employed</td>\n      <td>bhuqouqj</td>\n      <td>MSA, Not Principle  City</td>\n      <td>0.0</td>\n      <td>0.0</td>\n      <td>pxcmvdjn</td>\n      <td>xgwztkwe</td>\n    </tr>\n    <tr>\n      <th>2</th>\n      <td>1.0</td>\n      <td>1.0</td>\n      <td>0.0</td>\n      <td>1.0</td>\n      <td>0.0</td>\n      <td>0.0</td>\n      <td>0.0</td>\n      <td>0.0</td>\n      <td>0.0</td>\n      <td>NaN</td>\n      <td>...</td>\n      <td>&lt;= $75,000, Above Poverty</td>\n      <td>Not Married</td>\n      <td>Own</td>\n      <td>Employed</td>\n      <td>qufhixun</td>\n      <td>MSA, Not Principle  City</td>\n      <td>2.0</td>\n      <td>0.0</td>\n      <td>rucpziij</td>\n      <td>xtkaffoo</td>\n    </tr>\n    <tr>\n      <th>3</th>\n      <td>1.0</td>\n      <td>1.0</td>\n      <td>0.0</td>\n      <td>1.0</td>\n      <td>0.0</td>\n      <td>1.0</td>\n      <td>1.0</td>\n      <td>0.0</td>\n      <td>0.0</td>\n      <td>0.0</td>\n      <td>...</td>\n      <td>Below Poverty</td>\n      <td>Not Married</td>\n      <td>Rent</td>\n      <td>Not in Labor Force</td>\n      <td>lrircsnp</td>\n      <td>MSA, Principle City</td>\n      <td>0.0</td>\n      <td>0.0</td>\n      <td>NaN</td>\n      <td>NaN</td>\n    </tr>\n    <tr>\n      <th>4</th>\n      <td>2.0</td>\n      <td>1.0</td>\n      <td>0.0</td>\n      <td>1.0</td>\n      <td>0.0</td>\n      <td>1.0</td>\n      <td>1.0</td>\n      <td>0.0</td>\n      <td>1.0</td>\n      <td>0.0</td>\n      <td>...</td>\n      <td>&lt;= $75,000, Above Poverty</td>\n      <td>Married</td>\n      <td>Own</td>\n      <td>Employed</td>\n      <td>qufhixun</td>\n      <td>MSA, Not Principle  City</td>\n      <td>1.0</td>\n      <td>0.0</td>\n      <td>wxleyezf</td>\n      <td>emcorrxb</td>\n    </tr>\n  </tbody>\n</table>\n<p>5 rows × 35 columns</p>\n</div>"
     },
     "execution_count": 278,
     "metadata": {},
     "output_type": "execute_result"
    }
   ],
   "source": [
    "# set `respondent_id` as index\n",
    "train = original_train.set_index(\"respondent_id\")\n",
    "training_labels = training_labels.set_index(\"respondent_id\")\n",
    "test = original_test.set_index(\"respondent_id\")\n",
    "\n",
    "train.head()"
   ],
   "metadata": {
    "collapsed": false,
    "pycharm": {
     "name": "#%%\n"
    }
   }
  },
  {
   "cell_type": "code",
   "execution_count": 279,
   "outputs": [
    {
     "name": "stdout",
     "output_type": "stream",
     "text": [
      "h1n1_concern\t[0.0, 1.0, 2.0, 3.0, nan]\n",
      "h1n1_knowledge\t[0.0, 1.0, 2.0, nan]\n",
      "behavioral_antiviral_meds\t[0.0, 1.0, nan]\n",
      "behavioral_avoidance\t[0.0, 1.0, nan]\n",
      "behavioral_face_mask\t[0.0, 1.0, nan]\n",
      "behavioral_wash_hands\t[0.0, 1.0, nan]\n",
      "behavioral_large_gatherings\t[0.0, 1.0, nan]\n",
      "behavioral_outside_home\t[0.0, 1.0, nan]\n",
      "behavioral_touch_face\t[0.0, 1.0, nan]\n",
      "doctor_recc_h1n1\t[0.0, nan, 1.0]\n",
      "doctor_recc_seasonal\t[0.0, nan, 1.0]\n",
      "chronic_med_condition\t[0.0, 1.0, nan]\n",
      "child_under_6_months\t[0.0, 1.0, nan]\n",
      "health_worker\t[0.0, 1.0, nan]\n",
      "health_insurance\t[1.0, nan, 0.0]\n",
      "opinion_h1n1_vacc_effective\t[1.0, 2.0, 3.0, 4.0, 5.0, nan]\n",
      "opinion_h1n1_risk\t[1.0, 2.0, 3.0, 4.0, 5.0, nan]\n",
      "opinion_h1n1_sick_from_vacc\t[1.0, 2.0, 3.0, 4.0, 5.0, nan]\n",
      "opinion_seas_vacc_effective\t[1.0, 2.0, 3.0, 4.0, 5.0, nan]\n",
      "opinion_seas_risk\t[1.0, 2.0, 3.0, 4.0, 5.0, nan]\n",
      "opinion_seas_sick_from_vacc\t[1.0, 2.0, 3.0, 4.0, 5.0, nan]\n",
      "household_adults\t[0.0, 1.0, 2.0, 3.0, nan]\n",
      "household_children\t[0.0, 1.0, 2.0, 3.0, nan]\n"
     ]
    }
   ],
   "source": [
    "# find numeric columns\n",
    "numeric_columns = np.where(train.dtypes != object)[0]\n",
    "\n",
    "# I assume both train df and test df has identical column names and data types\n",
    "numeric_features = [train.columns[col] for col in numeric_columns]\n",
    "\n",
    "# visualize the unique values in each column\n",
    "for feature in numeric_features:\n",
    "    print(\"%s\\t%s\" % (feature, str(sorted(train[feature].unique()))))"
   ],
   "metadata": {
    "collapsed": false,
    "pycharm": {
     "name": "#%%\n"
    }
   }
  },
  {
   "cell_type": "code",
   "execution_count": 280,
   "outputs": [
    {
     "name": "stdout",
     "output_type": "stream",
     "text": [
      "['h1n1_concern', 'h1n1_knowledge', 'behavioral_antiviral_meds', 'behavioral_avoidance', 'behavioral_face_mask', 'behavioral_wash_hands', 'behavioral_large_gatherings', 'behavioral_outside_home', 'behavioral_touch_face', 'doctor_recc_h1n1', 'doctor_recc_seasonal', 'chronic_med_condition', 'child_under_6_months', 'health_worker', 'health_insurance', 'opinion_h1n1_vacc_effective', 'opinion_h1n1_risk', 'opinion_h1n1_sick_from_vacc', 'opinion_seas_vacc_effective', 'opinion_seas_risk', 'opinion_seas_sick_from_vacc', 'household_adults', 'household_children']\n"
     ]
    }
   ],
   "source": [
    "# as you can see, the `nan` values  cannot be replaced by mean values\n",
    "# that would compromise the purpose of the columns\n",
    "# so I'm replacing it with a negative high number so it can be an outlier\n",
    "print(numeric_features)\n",
    "\n",
    "# extract only numeric features, that is what I'm going to work on\n",
    "train_numeric = train[numeric_features]\n",
    "test_numeric = test[numeric_features]\n",
    "\n",
    "# for feature in numeric_features:\n",
    "#     train_numeric[feature].fillna(-9999)\n",
    "#     test_numeric[feature].fillna(-9999)\n",
    "\n",
    "train_numeric = train_numeric.fillna(-9999)\n",
    "test_numeric = test_numeric.fillna(-9999)"
   ],
   "metadata": {
    "collapsed": false,
    "pycharm": {
     "name": "#%%\n"
    }
   }
  },
  {
   "cell_type": "code",
   "execution_count": 281,
   "outputs": [],
   "source": [
    "# these are going to be the targets\n",
    "h1n1_vaccine = training_labels[\"h1n1_vaccine\"].values\n",
    "seasonal_vaccine = training_labels[\"seasonal_vaccine\"].values"
   ],
   "metadata": {
    "collapsed": false,
    "pycharm": {
     "name": "#%%\n"
    }
   }
  },
  {
   "cell_type": "code",
   "execution_count": 282,
   "outputs": [],
   "source": [
    "# split training data for train and test in 80:20 ratio\n",
    "x_train, x_test, y_train, y_test = train_test_split(train_numeric, h1n1_vaccine, test_size=0.2, random_state=1, stratify=h1n1_vaccine)"
   ],
   "metadata": {
    "collapsed": false,
    "pycharm": {
     "name": "#%%\n"
    }
   }
  },
  {
   "cell_type": "code",
   "execution_count": 283,
   "outputs": [],
   "source": [
    "# to accurately predict n in knn, I'm going to use grid search\n",
    "\n",
    "# I'm commenting out the code because I have already ran it once and found the answer\n",
    "# repeating again would be time consuming\n",
    "\n",
    "# knn2 = KNeighborsClassifier()\n",
    "# param_grid = {\n",
    "#     \"n_neighbors\": np.arange(1, 30)\n",
    "# }\n",
    "# knngscv = GridSearchCV(knn2, param_grid, cv=5)\n",
    "# knngscv.fit(x_train, y_train)\n",
    "#\n",
    "# print(knngscv.best_params_)\n",
    "# print(knngscv.best_score_)"
   ],
   "metadata": {
    "collapsed": false,
    "pycharm": {
     "name": "#%%\n"
    }
   }
  },
  {
   "cell_type": "code",
   "execution_count": 284,
   "outputs": [
    {
     "data": {
      "text/plain": "array([0, 0, 0, 0, 0, 1, 0, 0, 0, 0, 0, 0, 0, 0, 0, 0, 0, 0, 1, 0, 0, 0,\n       0, 0, 0, 0, 1, 0, 0, 0, 0, 0, 1, 0, 0, 0, 0, 0, 0, 0, 0, 0, 0, 0,\n       0, 0, 0, 1, 0, 0, 0, 0, 1, 0, 0, 0, 0, 0, 0, 0, 0, 0, 0, 1, 0, 0,\n       0, 0, 0, 0, 0, 0, 0, 0, 0, 0, 0, 0, 0, 0, 0, 0, 0, 0, 0, 0, 0, 0,\n       0, 0, 0, 0, 0, 0, 0, 0, 1, 0, 0, 0], dtype=int64)"
     },
     "execution_count": 284,
     "metadata": {},
     "output_type": "execute_result"
    }
   ],
   "source": [
    "# building the model\n",
    "knn_h1n1 = KNeighborsClassifier(n_neighbors=17)\n",
    "knn_h1n1.fit(x_train, y_train)\n",
    "\n",
    "# test the model for first 100 elements\n",
    "knn_h1n1.predict(x_test)[0:100]"
   ],
   "metadata": {
    "collapsed": false,
    "pycharm": {
     "name": "#%%\n"
    }
   }
  },
  {
   "cell_type": "code",
   "execution_count": 285,
   "outputs": [
    {
     "data": {
      "text/plain": "0.8339573193560464"
     },
     "execution_count": 285,
     "metadata": {},
     "output_type": "execute_result"
    }
   ],
   "source": [
    "# prints accuracy of the model: h1n1_vaccine\n",
    "knn_h1n1.score(x_test, y_test)"
   ],
   "metadata": {
    "collapsed": false,
    "pycharm": {
     "name": "#%%\n"
    }
   }
  },
  {
   "cell_type": "code",
   "execution_count": 286,
   "outputs": [
    {
     "data": {
      "text/plain": "0.7338075627105953"
     },
     "execution_count": 286,
     "metadata": {},
     "output_type": "execute_result"
    }
   ],
   "source": [
    "# now do another knn for seasonal_vaccine\n",
    "\n",
    "# split training data for train and test in 80:20 ratio\n",
    "x_train, x_test, y_train, y_test = train_test_split(train_numeric, seasonal_vaccine, test_size=0.2, random_state=1, stratify=seasonal_vaccine)\n",
    "\n",
    "knn_seasonal = KNeighborsClassifier(n_neighbors=17)\n",
    "knn_seasonal.fit(x_train, y_train)\n",
    "\n",
    "# prints accuracy of the model: seasonal_vaccine\n",
    "knn_seasonal.score(x_test, y_test)"
   ],
   "metadata": {
    "collapsed": false,
    "pycharm": {
     "name": "#%%\n"
    }
   }
  },
  {
   "cell_type": "code",
   "execution_count": 287,
   "outputs": [
    {
     "data": {
      "text/plain": "    respondent_id  h1n1_vaccine  seasonal_vaccine\n0           26707             0                 0\n1           26708             0                 0\n2           26709             0                 1\n3           26710             1                 1\n4           26711             0                 0\n..            ...           ...               ...\n95          26802             0                 0\n96          26803             0                 0\n97          26804             0                 0\n98          26805             0                 0\n99          26806             0                 1\n\n[100 rows x 3 columns]",
      "text/html": "<div>\n<style scoped>\n    .dataframe tbody tr th:only-of-type {\n        vertical-align: middle;\n    }\n\n    .dataframe tbody tr th {\n        vertical-align: top;\n    }\n\n    .dataframe thead th {\n        text-align: right;\n    }\n</style>\n<table border=\"1\" class=\"dataframe\">\n  <thead>\n    <tr style=\"text-align: right;\">\n      <th></th>\n      <th>respondent_id</th>\n      <th>h1n1_vaccine</th>\n      <th>seasonal_vaccine</th>\n    </tr>\n  </thead>\n  <tbody>\n    <tr>\n      <th>0</th>\n      <td>26707</td>\n      <td>0</td>\n      <td>0</td>\n    </tr>\n    <tr>\n      <th>1</th>\n      <td>26708</td>\n      <td>0</td>\n      <td>0</td>\n    </tr>\n    <tr>\n      <th>2</th>\n      <td>26709</td>\n      <td>0</td>\n      <td>1</td>\n    </tr>\n    <tr>\n      <th>3</th>\n      <td>26710</td>\n      <td>1</td>\n      <td>1</td>\n    </tr>\n    <tr>\n      <th>4</th>\n      <td>26711</td>\n      <td>0</td>\n      <td>0</td>\n    </tr>\n    <tr>\n      <th>...</th>\n      <td>...</td>\n      <td>...</td>\n      <td>...</td>\n    </tr>\n    <tr>\n      <th>95</th>\n      <td>26802</td>\n      <td>0</td>\n      <td>0</td>\n    </tr>\n    <tr>\n      <th>96</th>\n      <td>26803</td>\n      <td>0</td>\n      <td>0</td>\n    </tr>\n    <tr>\n      <th>97</th>\n      <td>26804</td>\n      <td>0</td>\n      <td>0</td>\n    </tr>\n    <tr>\n      <th>98</th>\n      <td>26805</td>\n      <td>0</td>\n      <td>0</td>\n    </tr>\n    <tr>\n      <th>99</th>\n      <td>26806</td>\n      <td>0</td>\n      <td>1</td>\n    </tr>\n  </tbody>\n</table>\n<p>100 rows × 3 columns</p>\n</div>"
     },
     "execution_count": 287,
     "metadata": {},
     "output_type": "execute_result"
    }
   ],
   "source": [
    "# now that it works, I'm going to find for test set\n",
    "\n",
    "build_df = pd.DataFrame(original_test[\"respondent_id\"])\n",
    "\n",
    "output_for_h1n1_vaccine = knn_h1n1.predict(test_numeric).tolist()\n",
    "build_df[\"h1n1_vaccine\"] = output_for_h1n1_vaccine\n",
    "\n",
    "output_for_seasonal_vaccine = knn_seasonal.predict(test_numeric).tolist()\n",
    "build_df[\"seasonal_vaccine\"] = output_for_seasonal_vaccine\n",
    "\n",
    "build_df.head(100)"
   ],
   "metadata": {
    "collapsed": false,
    "pycharm": {
     "name": "#%%\n"
    }
   }
  },
  {
   "cell_type": "code",
   "execution_count": 288,
   "outputs": [],
   "source": [
    "# convert to a csv file\n",
    "build_df.to_csv(\"output.csv\", index=False)\n"
   ],
   "metadata": {
    "collapsed": false,
    "pycharm": {
     "name": "#%%\n"
    }
   }
  }
 ],
 "metadata": {
  "kernelspec": {
   "display_name": "Python 3",
   "language": "python",
   "name": "python3"
  },
  "language_info": {
   "codemirror_mode": {
    "name": "ipython",
    "version": 2
   },
   "file_extension": ".py",
   "mimetype": "text/x-python",
   "name": "python",
   "nbconvert_exporter": "python",
   "pygments_lexer": "ipython2",
   "version": "2.7.6"
  }
 },
 "nbformat": 4,
 "nbformat_minor": 0
}